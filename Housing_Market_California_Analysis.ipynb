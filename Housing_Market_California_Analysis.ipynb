{
  "nbformat": 4,
  "nbformat_minor": 0,
  "metadata": {
    "colab": {
      "provenance": [],
      "collapsed_sections": [],
      "authorship_tag": "ABX9TyNR0O3n2E7Mvs+fQ1Z8B5jK",
      "include_colab_link": true
    },
    "kernelspec": {
      "name": "python3",
      "display_name": "Python 3"
    },
    "language_info": {
      "name": "python"
    }
  },
  "cells": [
    {
      "cell_type": "markdown",
      "metadata": {
        "id": "view-in-github",
        "colab_type": "text"
      },
      "source": [
        "<a href=\"https://colab.research.google.com/github/kabirodavies/Data-Projects/blob/main/Housing_Market_California_Analysis.ipynb\" target=\"_parent\"><img src=\"https://colab.research.google.com/assets/colab-badge.svg\" alt=\"Open In Colab\"/></a>"
      ]
    },
    {
      "cell_type": "markdown",
      "source": [
        "### Study house price of single family residential property type in the State of California (CA) from 2018-01-01 to 2022."
      ],
      "metadata": {
        "id": "GRIf1TabgnbP"
      }
    },
    {
      "cell_type": "markdown",
      "source": [
        "## Importing Libraries"
      ],
      "metadata": {
        "id": "OkaKA65iYtPw"
      }
    },
    {
      "cell_type": "code",
      "source": [
        "#Import all the necessary libraries\n",
        "import pandas as pd\n",
        "import numpy as np\n",
        "import matplotlib.pyplot as plt\n",
        "import seaborn as sns\n",
        "from sklearn.preprocessing import StandardScaler, normalize, RobustScaler, MinMaxScaler\n",
        "from sklearn.cluster import KMeans\n",
        "from sklearn.decomposition import PCA\n",
        "import scipy.cluster.hierarchy as hc\n",
        "from sklearn.cluster import AgglomerativeClustering"
      ],
      "metadata": {
        "id": "c3GQxlu1YvkW"
      },
      "execution_count": 1,
      "outputs": []
    },
    {
      "cell_type": "markdown",
      "source": [
        "# Load the data\n",
        "\n",
        "*   Housing Market Data From Redfin.\n",
        "*   Redfin is a real estate brokerage, meaning we have direct access to data from local multiple listing services, as well as insight from our real estate agents across the country.\n",
        "\n",
        "\n"
      ],
      "metadata": {
        "id": "ewLCD9IWCXSp"
      }
    },
    {
      "cell_type": "code",
      "source": [
        "house_url = 'https://redfin-public-data.s3.us-west-2.amazonaws.com/redfin_market_tracker/zip_code_market_tracker.tsv000.gz'\n",
        "\n",
        "house_ori = pd.read_csv(house_url, compression='gzip', sep='\\t', quotechar='\"')\n",
        "house = house_ori.copy()\n"
      ],
      "metadata": {
        "id": "y-5tzIJ4ZEIN"
      },
      "execution_count": 3,
      "outputs": []
    },
    {
      "cell_type": "markdown",
      "source": [
        "# Exploratory Data Analysis\n",
        "\n",
        "Running head gives us a peek of our dataset. Although this doesn’t really tell us much about our data besides showing us how the data looks like."
      ],
      "metadata": {
        "id": "Zn5z87T-CgMN"
      }
    },
    {
      "cell_type": "code",
      "source": [
        "house.head()"
      ],
      "metadata": {
        "colab": {
          "base_uri": "https://localhost:8080/",
          "height": 473
        },
        "id": "350NfMSCZc89",
        "outputId": "5c28d526-edd2-4db5-f8d6-7cc157559c3f"
      },
      "execution_count": null,
      "outputs": [
        {
          "output_type": "execute_result",
          "data": {
            "text/plain": [
              "  period_begin  period_end  period_duration region_type  region_type_id  \\\n",
              "0   2022-01-01  2022-03-31               90    zip code               2   \n",
              "1   2020-01-01  2020-03-31               90    zip code               2   \n",
              "2   2017-11-01  2018-01-31               90    zip code               2   \n",
              "3   2014-04-01  2014-06-30               90    zip code               2   \n",
              "4   2012-02-01  2012-04-30               90    zip code               2   \n",
              "\n",
              "   table_id is_seasonally_adjusted           region  city       state  ...  \\\n",
              "0     28652                      f  Zip Code: 66431   NaN      Kansas  ...   \n",
              "1     35743                      f  Zip Code: 83713   NaN       Idaho  ...   \n",
              "2     38464                      f  Zip Code: 92705   NaN  California  ...   \n",
              "3      8432                      f  Zip Code: 21208   NaN    Maryland  ...   \n",
              "4     39521                      f  Zip Code: 95301   NaN  California  ...   \n",
              "\n",
              "  sold_above_list_yoy price_drops  price_drops_mom  price_drops_yoy  \\\n",
              "0            0.000000         NaN              NaN              NaN   \n",
              "1            0.000000         NaN              NaN              NaN   \n",
              "2                 NaN         NaN              NaN              NaN   \n",
              "3            0.026786         NaN              NaN              NaN   \n",
              "4                 NaN         NaN              NaN              NaN   \n",
              "\n",
              "   off_market_in_two_weeks  off_market_in_two_weeks_mom  \\\n",
              "0                      NaN                          NaN   \n",
              "1                      NaN                          NaN   \n",
              "2                      NaN                          NaN   \n",
              "3                 0.636364                     0.454545   \n",
              "4                      NaN                          NaN   \n",
              "\n",
              "   off_market_in_two_weeks_yoy  parent_metro_region  \\\n",
              "0                          NaN           Topeka, KS   \n",
              "1                          NaN       Boise City, ID   \n",
              "2                          NaN          Anaheim, CA   \n",
              "3                     0.436364        Baltimore, MD   \n",
              "4                          NaN           Merced, CA   \n",
              "\n",
              "   parent_metro_region_metro_code         last_updated  \n",
              "0                           45820  2022-09-11 14:46:03  \n",
              "1                           14260  2022-09-11 14:46:03  \n",
              "2                           11244  2022-09-11 14:46:03  \n",
              "3                           12580  2022-09-11 14:46:03  \n",
              "4                           32900  2022-09-11 14:46:03  \n",
              "\n",
              "[5 rows x 58 columns]"
            ],
            "text/html": [
              "\n",
              "  <div id=\"df-d25b936c-822a-4bc0-94c0-4996f6b4eec8\">\n",
              "    <div class=\"colab-df-container\">\n",
              "      <div>\n",
              "<style scoped>\n",
              "    .dataframe tbody tr th:only-of-type {\n",
              "        vertical-align: middle;\n",
              "    }\n",
              "\n",
              "    .dataframe tbody tr th {\n",
              "        vertical-align: top;\n",
              "    }\n",
              "\n",
              "    .dataframe thead th {\n",
              "        text-align: right;\n",
              "    }\n",
              "</style>\n",
              "<table border=\"1\" class=\"dataframe\">\n",
              "  <thead>\n",
              "    <tr style=\"text-align: right;\">\n",
              "      <th></th>\n",
              "      <th>period_begin</th>\n",
              "      <th>period_end</th>\n",
              "      <th>period_duration</th>\n",
              "      <th>region_type</th>\n",
              "      <th>region_type_id</th>\n",
              "      <th>table_id</th>\n",
              "      <th>is_seasonally_adjusted</th>\n",
              "      <th>region</th>\n",
              "      <th>city</th>\n",
              "      <th>state</th>\n",
              "      <th>...</th>\n",
              "      <th>sold_above_list_yoy</th>\n",
              "      <th>price_drops</th>\n",
              "      <th>price_drops_mom</th>\n",
              "      <th>price_drops_yoy</th>\n",
              "      <th>off_market_in_two_weeks</th>\n",
              "      <th>off_market_in_two_weeks_mom</th>\n",
              "      <th>off_market_in_two_weeks_yoy</th>\n",
              "      <th>parent_metro_region</th>\n",
              "      <th>parent_metro_region_metro_code</th>\n",
              "      <th>last_updated</th>\n",
              "    </tr>\n",
              "  </thead>\n",
              "  <tbody>\n",
              "    <tr>\n",
              "      <th>0</th>\n",
              "      <td>2022-01-01</td>\n",
              "      <td>2022-03-31</td>\n",
              "      <td>90</td>\n",
              "      <td>zip code</td>\n",
              "      <td>2</td>\n",
              "      <td>28652</td>\n",
              "      <td>f</td>\n",
              "      <td>Zip Code: 66431</td>\n",
              "      <td>NaN</td>\n",
              "      <td>Kansas</td>\n",
              "      <td>...</td>\n",
              "      <td>0.000000</td>\n",
              "      <td>NaN</td>\n",
              "      <td>NaN</td>\n",
              "      <td>NaN</td>\n",
              "      <td>NaN</td>\n",
              "      <td>NaN</td>\n",
              "      <td>NaN</td>\n",
              "      <td>Topeka, KS</td>\n",
              "      <td>45820</td>\n",
              "      <td>2022-09-11 14:46:03</td>\n",
              "    </tr>\n",
              "    <tr>\n",
              "      <th>1</th>\n",
              "      <td>2020-01-01</td>\n",
              "      <td>2020-03-31</td>\n",
              "      <td>90</td>\n",
              "      <td>zip code</td>\n",
              "      <td>2</td>\n",
              "      <td>35743</td>\n",
              "      <td>f</td>\n",
              "      <td>Zip Code: 83713</td>\n",
              "      <td>NaN</td>\n",
              "      <td>Idaho</td>\n",
              "      <td>...</td>\n",
              "      <td>0.000000</td>\n",
              "      <td>NaN</td>\n",
              "      <td>NaN</td>\n",
              "      <td>NaN</td>\n",
              "      <td>NaN</td>\n",
              "      <td>NaN</td>\n",
              "      <td>NaN</td>\n",
              "      <td>Boise City, ID</td>\n",
              "      <td>14260</td>\n",
              "      <td>2022-09-11 14:46:03</td>\n",
              "    </tr>\n",
              "    <tr>\n",
              "      <th>2</th>\n",
              "      <td>2017-11-01</td>\n",
              "      <td>2018-01-31</td>\n",
              "      <td>90</td>\n",
              "      <td>zip code</td>\n",
              "      <td>2</td>\n",
              "      <td>38464</td>\n",
              "      <td>f</td>\n",
              "      <td>Zip Code: 92705</td>\n",
              "      <td>NaN</td>\n",
              "      <td>California</td>\n",
              "      <td>...</td>\n",
              "      <td>NaN</td>\n",
              "      <td>NaN</td>\n",
              "      <td>NaN</td>\n",
              "      <td>NaN</td>\n",
              "      <td>NaN</td>\n",
              "      <td>NaN</td>\n",
              "      <td>NaN</td>\n",
              "      <td>Anaheim, CA</td>\n",
              "      <td>11244</td>\n",
              "      <td>2022-09-11 14:46:03</td>\n",
              "    </tr>\n",
              "    <tr>\n",
              "      <th>3</th>\n",
              "      <td>2014-04-01</td>\n",
              "      <td>2014-06-30</td>\n",
              "      <td>90</td>\n",
              "      <td>zip code</td>\n",
              "      <td>2</td>\n",
              "      <td>8432</td>\n",
              "      <td>f</td>\n",
              "      <td>Zip Code: 21208</td>\n",
              "      <td>NaN</td>\n",
              "      <td>Maryland</td>\n",
              "      <td>...</td>\n",
              "      <td>0.026786</td>\n",
              "      <td>NaN</td>\n",
              "      <td>NaN</td>\n",
              "      <td>NaN</td>\n",
              "      <td>0.636364</td>\n",
              "      <td>0.454545</td>\n",
              "      <td>0.436364</td>\n",
              "      <td>Baltimore, MD</td>\n",
              "      <td>12580</td>\n",
              "      <td>2022-09-11 14:46:03</td>\n",
              "    </tr>\n",
              "    <tr>\n",
              "      <th>4</th>\n",
              "      <td>2012-02-01</td>\n",
              "      <td>2012-04-30</td>\n",
              "      <td>90</td>\n",
              "      <td>zip code</td>\n",
              "      <td>2</td>\n",
              "      <td>39521</td>\n",
              "      <td>f</td>\n",
              "      <td>Zip Code: 95301</td>\n",
              "      <td>NaN</td>\n",
              "      <td>California</td>\n",
              "      <td>...</td>\n",
              "      <td>NaN</td>\n",
              "      <td>NaN</td>\n",
              "      <td>NaN</td>\n",
              "      <td>NaN</td>\n",
              "      <td>NaN</td>\n",
              "      <td>NaN</td>\n",
              "      <td>NaN</td>\n",
              "      <td>Merced, CA</td>\n",
              "      <td>32900</td>\n",
              "      <td>2022-09-11 14:46:03</td>\n",
              "    </tr>\n",
              "  </tbody>\n",
              "</table>\n",
              "<p>5 rows × 58 columns</p>\n",
              "</div>\n",
              "      <button class=\"colab-df-convert\" onclick=\"convertToInteractive('df-d25b936c-822a-4bc0-94c0-4996f6b4eec8')\"\n",
              "              title=\"Convert this dataframe to an interactive table.\"\n",
              "              style=\"display:none;\">\n",
              "        \n",
              "  <svg xmlns=\"http://www.w3.org/2000/svg\" height=\"24px\"viewBox=\"0 0 24 24\"\n",
              "       width=\"24px\">\n",
              "    <path d=\"M0 0h24v24H0V0z\" fill=\"none\"/>\n",
              "    <path d=\"M18.56 5.44l.94 2.06.94-2.06 2.06-.94-2.06-.94-.94-2.06-.94 2.06-2.06.94zm-11 1L8.5 8.5l.94-2.06 2.06-.94-2.06-.94L8.5 2.5l-.94 2.06-2.06.94zm10 10l.94 2.06.94-2.06 2.06-.94-2.06-.94-.94-2.06-.94 2.06-2.06.94z\"/><path d=\"M17.41 7.96l-1.37-1.37c-.4-.4-.92-.59-1.43-.59-.52 0-1.04.2-1.43.59L10.3 9.45l-7.72 7.72c-.78.78-.78 2.05 0 2.83L4 21.41c.39.39.9.59 1.41.59.51 0 1.02-.2 1.41-.59l7.78-7.78 2.81-2.81c.8-.78.8-2.07 0-2.86zM5.41 20L4 18.59l7.72-7.72 1.47 1.35L5.41 20z\"/>\n",
              "  </svg>\n",
              "      </button>\n",
              "      \n",
              "  <style>\n",
              "    .colab-df-container {\n",
              "      display:flex;\n",
              "      flex-wrap:wrap;\n",
              "      gap: 12px;\n",
              "    }\n",
              "\n",
              "    .colab-df-convert {\n",
              "      background-color: #E8F0FE;\n",
              "      border: none;\n",
              "      border-radius: 50%;\n",
              "      cursor: pointer;\n",
              "      display: none;\n",
              "      fill: #1967D2;\n",
              "      height: 32px;\n",
              "      padding: 0 0 0 0;\n",
              "      width: 32px;\n",
              "    }\n",
              "\n",
              "    .colab-df-convert:hover {\n",
              "      background-color: #E2EBFA;\n",
              "      box-shadow: 0px 1px 2px rgba(60, 64, 67, 0.3), 0px 1px 3px 1px rgba(60, 64, 67, 0.15);\n",
              "      fill: #174EA6;\n",
              "    }\n",
              "\n",
              "    [theme=dark] .colab-df-convert {\n",
              "      background-color: #3B4455;\n",
              "      fill: #D2E3FC;\n",
              "    }\n",
              "\n",
              "    [theme=dark] .colab-df-convert:hover {\n",
              "      background-color: #434B5C;\n",
              "      box-shadow: 0px 1px 3px 1px rgba(0, 0, 0, 0.15);\n",
              "      filter: drop-shadow(0px 1px 2px rgba(0, 0, 0, 0.3));\n",
              "      fill: #FFFFFF;\n",
              "    }\n",
              "  </style>\n",
              "\n",
              "      <script>\n",
              "        const buttonEl =\n",
              "          document.querySelector('#df-d25b936c-822a-4bc0-94c0-4996f6b4eec8 button.colab-df-convert');\n",
              "        buttonEl.style.display =\n",
              "          google.colab.kernel.accessAllowed ? 'block' : 'none';\n",
              "\n",
              "        async function convertToInteractive(key) {\n",
              "          const element = document.querySelector('#df-d25b936c-822a-4bc0-94c0-4996f6b4eec8');\n",
              "          const dataTable =\n",
              "            await google.colab.kernel.invokeFunction('convertToInteractive',\n",
              "                                                     [key], {});\n",
              "          if (!dataTable) return;\n",
              "\n",
              "          const docLinkHtml = 'Like what you see? Visit the ' +\n",
              "            '<a target=\"_blank\" href=https://colab.research.google.com/notebooks/data_table.ipynb>data table notebook</a>'\n",
              "            + ' to learn more about interactive tables.';\n",
              "          element.innerHTML = '';\n",
              "          dataTable['output_type'] = 'display_data';\n",
              "          await google.colab.output.renderOutput(dataTable, element);\n",
              "          const docLink = document.createElement('div');\n",
              "          docLink.innerHTML = docLinkHtml;\n",
              "          element.appendChild(docLink);\n",
              "        }\n",
              "      </script>\n",
              "    </div>\n",
              "  </div>\n",
              "  "
            ]
          },
          "metadata": {},
          "execution_count": 4
        }
      ]
    },
    {
      "cell_type": "code",
      "source": [
        "house.shape"
      ],
      "metadata": {
        "id": "sTmaqOwGawb9",
        "colab": {
          "base_uri": "https://localhost:8080/"
        },
        "outputId": "7bba24f1-82a4-4268-985e-6b1495612ec6"
      },
      "execution_count": null,
      "outputs": [
        {
          "output_type": "execute_result",
          "data": {
            "text/plain": [
              "(6196869, 58)"
            ]
          },
          "metadata": {},
          "execution_count": 5
        }
      ]
    },
    {
      "cell_type": "markdown",
      "source": [
        "# Data info\n",
        "Calling info() on our dataset tells us tons of information about our data frame like the shape (rows, columns), the data type of our features, and the memory usage."
      ],
      "metadata": {
        "id": "rUa7B1GKCgGT"
      }
    },
    {
      "cell_type": "code",
      "source": [
        "house.info()"
      ],
      "metadata": {
        "id": "Dz2k93XGZpj8",
        "colab": {
          "base_uri": "https://localhost:8080/"
        },
        "outputId": "7d3529a1-5d8b-45ab-de3c-61f6bafbe600"
      },
      "execution_count": null,
      "outputs": [
        {
          "output_type": "stream",
          "name": "stdout",
          "text": [
            "<class 'pandas.core.frame.DataFrame'>\n",
            "RangeIndex: 6196869 entries, 0 to 6196868\n",
            "Data columns (total 58 columns):\n",
            " #   Column                          Dtype  \n",
            "---  ------                          -----  \n",
            " 0   period_begin                    object \n",
            " 1   period_end                      object \n",
            " 2   period_duration                 int64  \n",
            " 3   region_type                     object \n",
            " 4   region_type_id                  int64  \n",
            " 5   table_id                        int64  \n",
            " 6   is_seasonally_adjusted          object \n",
            " 7   region                          object \n",
            " 8   city                            float64\n",
            " 9   state                           object \n",
            " 10  state_code                      object \n",
            " 11  property_type                   object \n",
            " 12  property_type_id                int64  \n",
            " 13  median_sale_price               float64\n",
            " 14  median_sale_price_mom           float64\n",
            " 15  median_sale_price_yoy           float64\n",
            " 16  median_list_price               float64\n",
            " 17  median_list_price_mom           float64\n",
            " 18  median_list_price_yoy           float64\n",
            " 19  median_ppsf                     float64\n",
            " 20  median_ppsf_mom                 float64\n",
            " 21  median_ppsf_yoy                 float64\n",
            " 22  median_list_ppsf                float64\n",
            " 23  median_list_ppsf_mom            float64\n",
            " 24  median_list_ppsf_yoy            float64\n",
            " 25  homes_sold                      float64\n",
            " 26  homes_sold_mom                  float64\n",
            " 27  homes_sold_yoy                  float64\n",
            " 28  pending_sales                   float64\n",
            " 29  pending_sales_mom               float64\n",
            " 30  pending_sales_yoy               float64\n",
            " 31  new_listings                    float64\n",
            " 32  new_listings_mom                float64\n",
            " 33  new_listings_yoy                float64\n",
            " 34  inventory                       float64\n",
            " 35  inventory_mom                   float64\n",
            " 36  inventory_yoy                   float64\n",
            " 37  months_of_supply                float64\n",
            " 38  months_of_supply_mom            float64\n",
            " 39  months_of_supply_yoy            float64\n",
            " 40  median_dom                      float64\n",
            " 41  median_dom_mom                  float64\n",
            " 42  median_dom_yoy                  float64\n",
            " 43  avg_sale_to_list                float64\n",
            " 44  avg_sale_to_list_mom            float64\n",
            " 45  avg_sale_to_list_yoy            float64\n",
            " 46  sold_above_list                 float64\n",
            " 47  sold_above_list_mom             float64\n",
            " 48  sold_above_list_yoy             float64\n",
            " 49  price_drops                     float64\n",
            " 50  price_drops_mom                 float64\n",
            " 51  price_drops_yoy                 float64\n",
            " 52  off_market_in_two_weeks         float64\n",
            " 53  off_market_in_two_weeks_mom     float64\n",
            " 54  off_market_in_two_weeks_yoy     float64\n",
            " 55  parent_metro_region             object \n",
            " 56  parent_metro_region_metro_code  int64  \n",
            " 57  last_updated                    object \n",
            "dtypes: float64(43), int64(5), object(10)\n",
            "memory usage: 2.7+ GB\n"
          ]
        }
      ]
    },
    {
      "cell_type": "markdown",
      "source": [
        "# Data Type\n",
        "Separating our features into numerical and categorical early on is useful."
      ],
      "metadata": {
        "id": "eyx8gZL0CgCm"
      }
    },
    {
      "cell_type": "code",
      "source": [
        "cat_df = house.select_dtypes(include=['object'])\n",
        "num_df = house.select_dtypes(exclude=['object'])\n",
        "\n",
        "def printColumnTypes(non_numeric_df, numeric_df):\n",
        "    '''separates non-numeric and numeric columns'''\n",
        "    print(\"Non-Numeric columns:\")\n",
        "    for col in non_numeric_df:\n",
        "        print(f\"{col}\")\n",
        "    print(\"\")\n",
        "    print(\"Numeric columns:\")\n",
        "    for col in numeric_df:\n",
        "        print(f\"{col}\")\n",
        "        \n",
        "printColumnTypes(cat_df, num_df)"
      ],
      "metadata": {
        "colab": {
          "base_uri": "https://localhost:8080/"
        },
        "id": "ktpcKod9aAhU",
        "outputId": "4f7f0587-117c-4d93-a9eb-3b26273d3d06"
      },
      "execution_count": null,
      "outputs": [
        {
          "output_type": "stream",
          "name": "stdout",
          "text": [
            "Non-Numeric columns:\n",
            "period_begin\n",
            "period_end\n",
            "region_type\n",
            "is_seasonally_adjusted\n",
            "region\n",
            "state\n",
            "state_code\n",
            "property_type\n",
            "parent_metro_region\n",
            "last_updated\n",
            "\n",
            "Numeric columns:\n",
            "period_duration\n",
            "region_type_id\n",
            "table_id\n",
            "city\n",
            "property_type_id\n",
            "median_sale_price\n",
            "median_sale_price_mom\n",
            "median_sale_price_yoy\n",
            "median_list_price\n",
            "median_list_price_mom\n",
            "median_list_price_yoy\n",
            "median_ppsf\n",
            "median_ppsf_mom\n",
            "median_ppsf_yoy\n",
            "median_list_ppsf\n",
            "median_list_ppsf_mom\n",
            "median_list_ppsf_yoy\n",
            "homes_sold\n",
            "homes_sold_mom\n",
            "homes_sold_yoy\n",
            "pending_sales\n",
            "pending_sales_mom\n",
            "pending_sales_yoy\n",
            "new_listings\n",
            "new_listings_mom\n",
            "new_listings_yoy\n",
            "inventory\n",
            "inventory_mom\n",
            "inventory_yoy\n",
            "months_of_supply\n",
            "months_of_supply_mom\n",
            "months_of_supply_yoy\n",
            "median_dom\n",
            "median_dom_mom\n",
            "median_dom_yoy\n",
            "avg_sale_to_list\n",
            "avg_sale_to_list_mom\n",
            "avg_sale_to_list_yoy\n",
            "sold_above_list\n",
            "sold_above_list_mom\n",
            "sold_above_list_yoy\n",
            "price_drops\n",
            "price_drops_mom\n",
            "price_drops_yoy\n",
            "off_market_in_two_weeks\n",
            "off_market_in_two_weeks_mom\n",
            "off_market_in_two_weeks_yoy\n",
            "parent_metro_region_metro_code\n"
          ]
        }
      ]
    },
    {
      "cell_type": "markdown",
      "source": [
        "###### Seems like the 'period_begin', 'period_end', 'last_updated', and 'city' columns are in the wrong format.\n",
        "\n",
        "###### Since this is a huge dataset with 6,196,869 rows and 58 columns, we will filter the data to only the State of California for the 'Single Family Residential' property_type' from 2018-01-01. "
      ],
      "metadata": {
        "id": "ySUJPpBIdo0O"
      }
    },
    {
      "cell_type": "markdown",
      "source": [
        "## Data Cleaning"
      ],
      "metadata": {
        "id": "t1rFgXIionQ2"
      }
    },
    {
      "cell_type": "code",
      "source": [
        "# convert the 'period_begin' and 'period_end columns to datetime format\n",
        "house['period_begin'] = pd.to_datetime(house['period_begin'])\n",
        "house['period_end'] = pd.to_datetime(house['period_end'])\n",
        "house['last_updated'] = pd.to_datetime(house['last_updated'])"
      ],
      "metadata": {
        "id": "UmMfvnAPeGxk"
      },
      "execution_count": 79,
      "outputs": []
    },
    {
      "cell_type": "code",
      "source": [
        "#Filter the dataframe to only look at single-family properties sold in California (CA) from 2021-01 to 2022-06-01\n",
        "df_CA = house[(house['period_begin'] >='2020-01-01') & (house['property_type']=='Single Family Residential') & (house['homes_sold']>=20) & (house['state_code']=='CA')]"
      ],
      "metadata": {
        "id": "kHzLg3Filu48"
      },
      "execution_count": 85,
      "outputs": []
    },
    {
      "cell_type": "code",
      "source": [
        "# Check new shape\n",
        "#(df_CA['homes_sold']>=20) &"
      ],
      "metadata": {
        "id": "whNZm4ten6k8"
      },
      "execution_count": null,
      "outputs": []
    },
    {
      "cell_type": "code",
      "source": [
        "df_CA.shape"
      ],
      "metadata": {
        "colab": {
          "base_uri": "https://localhost:8080/"
        },
        "id": "qB2p9XtBN7Mh",
        "outputId": "c4e1ff13-bbe6-4976-e6d3-aac9432b27a1"
      },
      "execution_count": 86,
      "outputs": [
        {
          "output_type": "execute_result",
          "data": {
            "text/plain": [
              "(28296, 58)"
            ]
          },
          "metadata": {},
          "execution_count": 86
        }
      ]
    },
    {
      "cell_type": "code",
      "source": [
        "# Check city column\n",
        "df_CA['city'].isna().sum()"
      ],
      "metadata": {
        "colab": {
          "base_uri": "https://localhost:8080/"
        },
        "id": "yvtx2WqXncVd",
        "outputId": "dabe8fcf-acd2-4be3-ae83-c157f7f59a3b"
      },
      "execution_count": 7,
      "outputs": [
        {
          "output_type": "execute_result",
          "data": {
            "text/plain": [
              "76000"
            ]
          },
          "metadata": {},
          "execution_count": 7
        }
      ]
    },
    {
      "cell_type": "markdown",
      "source": [
        "City column seems to be missing all records, we'll drop it later after checking for other possible columns with similar properties"
      ],
      "metadata": {
        "id": "XOCEucI8oCyP"
      }
    },
    {
      "cell_type": "markdown",
      "source": [
        "## Missing Data\n",
        "Missing data is common in all kinds of data and is tricky to deal with. Most machine learning techniques do not work with missing values and it has to be addressed early on.\n",
        "\n",
        "### The two common methods to deal with missing values are\n",
        "\n",
        "1. Dropping the rows / columns\n",
        "2. Imputing them based on other observations i.e. the mean or median"
      ],
      "metadata": {
        "id": "nljdqstUCf4e"
      }
    },
    {
      "cell_type": "markdown",
      "source": [
        "## Columns with missing values\n"
      ],
      "metadata": {
        "id": "S5o_od0OSRaG"
      }
    },
    {
      "cell_type": "code",
      "source": [
        "def missing_cols(df):\n",
        "    '''prints out columns with its amount of missing values'''\n",
        "    total = 0\n",
        "    for col in df.columns:\n",
        "        missing_vals = df[col].isnull().sum()\n",
        "        total += missing_vals\n",
        "        if missing_vals != 0:\n",
        "            print(f\"{col} => {df[col].isnull().sum()}\")\n",
        "    \n",
        "    if total == 0:\n",
        "        print(\"no missing values left\")\n",
        "            \n",
        "missing_cols(df_CA)"
      ],
      "metadata": {
        "colab": {
          "base_uri": "https://localhost:8080/"
        },
        "id": "rOfNKPrGo_C3",
        "outputId": "620b2d85-8f21-4eb2-b3ff-345df23c3942"
      },
      "execution_count": 87,
      "outputs": [
        {
          "output_type": "stream",
          "name": "stdout",
          "text": [
            "city => 28296\n",
            "median_sale_price_yoy => 15\n",
            "median_list_price => 9\n",
            "median_list_price_mom => 13\n",
            "median_list_price_yoy => 49\n",
            "median_ppsf_yoy => 15\n",
            "median_list_ppsf => 9\n",
            "median_list_ppsf_mom => 13\n",
            "median_list_ppsf_yoy => 49\n",
            "homes_sold_yoy => 15\n",
            "pending_sales => 86\n",
            "pending_sales_mom => 125\n",
            "pending_sales_yoy => 245\n",
            "new_listings => 9\n",
            "new_listings_mom => 13\n",
            "new_listings_yoy => 49\n",
            "inventory => 27\n",
            "inventory_mom => 47\n",
            "inventory_yoy => 70\n",
            "months_of_supply => 28296\n",
            "months_of_supply_mom => 28296\n",
            "months_of_supply_yoy => 28296\n",
            "median_dom => 13\n",
            "median_dom_mom => 18\n",
            "median_dom_yoy => 65\n",
            "avg_sale_to_list_yoy => 15\n",
            "sold_above_list_yoy => 15\n",
            "price_drops => 28296\n",
            "price_drops_mom => 28296\n",
            "price_drops_yoy => 28296\n",
            "off_market_in_two_weeks => 86\n",
            "off_market_in_two_weeks_mom => 125\n",
            "off_market_in_two_weeks_yoy => 245\n"
          ]
        }
      ]
    },
    {
      "cell_type": "markdown",
      "source": [
        "## Percentage missing"
      ],
      "metadata": {
        "id": "vxdIV5p1SXqN"
      }
    },
    {
      "cell_type": "code",
      "source": [
        "def perc_missing(df):\n",
        "    '''prints out columns with missing values with its %'''\n",
        "    for col in df.columns:\n",
        "        pct = df[col].isna().mean() * 100\n",
        "        if (pct != 0):\n",
        "            print('{} => {}%'.format(col, round(pct, 2)))\n",
        "    \n",
        "perc_missing(df_CA)"
      ],
      "metadata": {
        "colab": {
          "base_uri": "https://localhost:8080/"
        },
        "id": "C9yEDTdQpjMB",
        "outputId": "4abaf3e8-f60b-4270-8619-fa062ce2f4f5"
      },
      "execution_count": null,
      "outputs": [
        {
          "output_type": "stream",
          "name": "stdout",
          "text": [
            "city => 100.0%\n",
            "median_sale_price_mom => 2.1%\n",
            "median_sale_price_yoy => 5.79%\n",
            "median_list_price => 3.49%\n",
            "median_list_price_mom => 5.76%\n",
            "median_list_price_yoy => 8.64%\n",
            "median_ppsf => 0.11%\n",
            "median_ppsf_mom => 2.21%\n",
            "median_ppsf_yoy => 5.87%\n",
            "median_list_ppsf => 3.53%\n",
            "median_list_ppsf_mom => 5.79%\n",
            "median_list_ppsf_yoy => 8.67%\n",
            "homes_sold_mom => 2.1%\n",
            "homes_sold_yoy => 5.79%\n",
            "pending_sales => 12.25%\n",
            "pending_sales_mom => 17.09%\n",
            "pending_sales_yoy => 18.18%\n",
            "new_listings => 3.49%\n",
            "new_listings_mom => 5.76%\n",
            "new_listings_yoy => 8.64%\n",
            "inventory => 4.68%\n",
            "inventory_mom => 6.83%\n",
            "inventory_yoy => 9.45%\n",
            "months_of_supply => 100.0%\n",
            "months_of_supply_mom => 100.0%\n",
            "months_of_supply_yoy => 100.0%\n",
            "median_dom => 1.06%\n",
            "median_dom_mom => 3.19%\n",
            "median_dom_yoy => 6.86%\n",
            "avg_sale_to_list => 0.02%\n",
            "avg_sale_to_list_mom => 2.12%\n",
            "avg_sale_to_list_yoy => 5.81%\n",
            "sold_above_list_mom => 2.1%\n",
            "sold_above_list_yoy => 5.79%\n",
            "price_drops => 100.0%\n",
            "price_drops_mom => 100.0%\n",
            "price_drops_yoy => 100.0%\n",
            "off_market_in_two_weeks => 12.25%\n",
            "off_market_in_two_weeks_mom => 17.09%\n",
            "off_market_in_two_weeks_yoy => 18.18%\n"
          ]
        }
      ]
    },
    {
      "cell_type": "markdown",
      "source": [
        "## Heatmap of missing values\n"
      ],
      "metadata": {
        "id": "qbjr0RQSScut"
      }
    },
    {
      "cell_type": "code",
      "source": [
        "# Heatmap of the entire dataset\n",
        "plt.figure(figsize=(20, 6))\n",
        "sns.heatmap(df_CA.isnull(), yticklabels=False, cmap='viridis', cbar=False)"
      ],
      "metadata": {
        "colab": {
          "base_uri": "https://localhost:8080/",
          "height": 509
        },
        "id": "sD4u0xn-q1IC",
        "outputId": "30e8ab2b-4d67-4be5-dd5e-d0b1ff827cef"
      },
      "execution_count": null,
      "outputs": [
        {
          "output_type": "execute_result",
          "data": {
            "text/plain": [
              "<matplotlib.axes._subplots.AxesSubplot at 0x7f56fa28fa10>"
            ]
          },
          "metadata": {},
          "execution_count": 43
        },
        {
          "output_type": "display_data",
          "data": {
            "text/plain": [
              "<Figure size 1440x432 with 1 Axes>"
            ],
            "image/png": "[encoded data removed]"
          },
          "metadata": {
            "needs_background": "light"
          }
        }
      ]
    },
    {
      "cell_type": "markdown",
      "source": [
        "Seems like we have a few columns missing 100% of the data including 'city' column. We'll drop the columns missing atleast 25% of the data."
      ],
      "metadata": {
        "id": "Rzls-iGdMqCw"
      }
    },
    {
      "cell_type": "code",
      "source": [
        "# Drop unnecessary columns that are not important\n",
        "df = df_CA.copy() # Make a copy\n",
        "df.dropna(axis=1, thresh = int(0.25*df.shape[0]), inplace=True)"
      ],
      "metadata": {
        "id": "ksnKVkMBNJNI"
      },
      "execution_count": 88,
      "outputs": []
    },
    {
      "cell_type": "code",
      "source": [
        "cat_df = df.select_dtypes(include=['object'])\n",
        "num_df = df.select_dtypes(exclude=['object'])"
      ],
      "metadata": {
        "id": "ZPv4YOSSTgdf"
      },
      "execution_count": 89,
      "outputs": []
    },
    {
      "cell_type": "code",
      "source": [
        "print(\"No. of Numeric Columns \" + str(len(num_df.columns)))\n",
        "print(\"No. of Categorical Columns \" + str(len(cat_df.columns)))"
      ],
      "metadata": {
        "colab": {
          "base_uri": "https://localhost:8080/"
        },
        "id": "JVhuvII7Uui3",
        "outputId": "93f796ce-7612-4466-86ea-a5e798816344"
      },
      "execution_count": 90,
      "outputs": [
        {
          "output_type": "stream",
          "name": "stdout",
          "text": [
            "No. of Numeric Columns 44\n",
            "No. of Categorical Columns 7\n"
          ]
        }
      ]
    },
    {
      "cell_type": "markdown",
      "source": [
        "For our clustering analysis, we don’t need all these columns. We are going to create clusters based on nine features so let’s only keep the fields that are of interest in our data frame using the following code."
      ],
      "metadata": {
        "id": "X30GZWeC0AXh"
      }
    },
    {
      "cell_type": "code",
      "source": [
        "#Select fields that are of interest\n",
        "fields=[\n",
        "'region',\n",
        "'median_sale_price_yoy',\n",
        "'median_list_price_yoy',\n",
        "'median_list_ppsf_yoy',\n",
        "'median_dom_yoy',\n",
        "'homes_sold_yoy',\n",
        "'new_listings_yoy',\n",
        "'median_dom',\n",
        "'avg_sale_to_list',\n",
        "]\n",
        "\n",
        "new_df = df[fields].set_index('region')"
      ],
      "metadata": {
        "id": "3mtjUC_WvRti"
      },
      "execution_count": 91,
      "outputs": []
    },
    {
      "cell_type": "code",
      "source": [
        "new_df.shape"
      ],
      "metadata": {
        "colab": {
          "base_uri": "https://localhost:8080/"
        },
        "id": "qXZFw8810guD",
        "outputId": "fa6cb707-67f3-4124-cdb9-5d15199b6838"
      },
      "execution_count": 92,
      "outputs": [
        {
          "output_type": "execute_result",
          "data": {
            "text/plain": [
              "(28296, 8)"
            ]
          },
          "metadata": {},
          "execution_count": 92
        }
      ]
    },
    {
      "cell_type": "code",
      "source": [
        "# Replace string or empty values with nan\n",
        "new_df = new_df.replace(r'^\\s*$', np.NaN, regex=True)"
      ],
      "metadata": {
        "id": "qURLA3UEV0ta"
      },
      "execution_count": 93,
      "outputs": []
    },
    {
      "cell_type": "code",
      "source": [
        "new_df.to_csv(\"raw_df.csv\")"
      ],
      "metadata": {
        "id": "KuhbTS_iND-u"
      },
      "execution_count": 94,
      "outputs": []
    },
    {
      "cell_type": "code",
      "source": [
        "plt.figure(figsize=(15, 5))\n",
        "sns.heatmap(new_df.isnull(), yticklabels=False, cmap='viridis', cbar=False)"
      ],
      "metadata": {
        "colab": {
          "base_uri": "https://localhost:8080/",
          "height": 443
        },
        "id": "94GpiATg09eq",
        "outputId": "680a24a4-8c9f-47e1-89e0-1c5069a4fa80"
      },
      "execution_count": 95,
      "outputs": [
        {
          "output_type": "execute_result",
          "data": {
            "text/plain": [
              "<matplotlib.axes._subplots.AxesSubplot at 0x7ff5fcdfe710>"
            ]
          },
          "metadata": {},
          "execution_count": 95
        },
        {
          "output_type": "display_data",
          "data": {
            "text/plain": [
              "<Figure size 1080x360 with 1 Axes>"
            ],
            "image/png": "[encoded data removed]"
          },
          "metadata": {
            "needs_background": "light"
          }
        }
      ]
    },
    {
      "cell_type": "markdown",
      "source": [
        "Before dealing with the missing values, lets first check the dataset for outliers and treat them accordingly."
      ],
      "metadata": {
        "id": "h4Bl1k2UOL3Y"
      }
    },
    {
      "cell_type": "markdown",
      "source": [
        "## Outliers\n",
        "### Detecting Outliers\n",
        "1. Boxplots\n",
        "2. Z-score\n",
        "3. Inter Quantile Range(IQR)"
      ],
      "metadata": {
        "id": "TeR7JJ-sMWgy"
      }
    },
    {
      "cell_type": "markdown",
      "source": [
        "#### Detecting outlier using Inter Quantile Range(IQR)\n"
      ],
      "metadata": {
        "id": "Fdnvy6DEOpNA"
      }
    },
    {
      "cell_type": "code",
      "source": [
        "len(new_df)"
      ],
      "metadata": {
        "colab": {
          "base_uri": "https://localhost:8080/"
        },
        "id": "e1qMN3ddja2S",
        "outputId": "a6491212-565b-4675-ecbb-9575c6c28f94"
      },
      "execution_count": 125,
      "outputs": [
        {
          "output_type": "execute_result",
          "data": {
            "text/plain": [
              "28296"
            ]
          },
          "metadata": {},
          "execution_count": 125
        }
      ]
    },
    {
      "cell_type": "code",
      "source": [
        "# Descriptive statistics\n",
        "new_df.describe()"
      ],
      "metadata": {
        "colab": {
          "base_uri": "https://localhost:8080/",
          "height": 364
        },
        "id": "Q9l4lKiVOo0w",
        "outputId": "ed744211-8484-48a9-b3d5-a1c06a2b3fcd"
      },
      "execution_count": null,
      "outputs": [
        {
          "output_type": "execute_result",
          "data": {
            "text/plain": [
              "       median_sale_price_yoy  median_list_price_yoy  median_list_ppsf_yoy  \\\n",
              "count           71603.000000           69431.000000          69412.000000   \n",
              "mean                0.135753               0.118772              0.155925   \n",
              "std                 0.455915               0.708248             14.032588   \n",
              "min                -0.968829              -0.999436             -0.999751   \n",
              "25%                 0.019435               0.017430              0.021218   \n",
              "50%                 0.093535               0.082391              0.079571   \n",
              "75%                 0.189884               0.164450              0.157268   \n",
              "max                40.844895             125.001260           3696.621582   \n",
              "\n",
              "       median_dom_yoy  homes_sold_yoy  new_listings_yoy    median_dom  \\\n",
              "count    70785.000000    71603.000000      69434.000000  75198.000000   \n",
              "mean        -5.643067        0.254664          0.167462     47.478184   \n",
              "std         94.968145        3.201637          1.907540     76.356905   \n",
              "min      -7371.000000       -0.966667         -0.944444      1.000000   \n",
              "25%        -14.500000       -0.194444         -0.183673     18.000000   \n",
              "50%         -2.500000        0.000000          0.000000     34.000000   \n",
              "75%          6.500000        0.250000          0.213333     54.000000   \n",
              "max       7309.000000      210.000000        141.000000   7376.000000   \n",
              "\n",
              "       avg_sale_to_list  \n",
              "count      75985.000000  \n",
              "mean           1.007669  \n",
              "std            0.053709  \n",
              "min            0.555556  \n",
              "25%            0.985364  \n",
              "50%            1.000000  \n",
              "75%            1.023161  \n",
              "max            1.967742  "
            ],
            "text/html": [
              "\n",
              "  <div id=\"df-f03d8a61-98e1-4847-b365-522977f7d230\">\n",
              "    <div class=\"colab-df-container\">\n",
              "      <div>\n",
              "<style scoped>\n",
              "    .dataframe tbody tr th:only-of-type {\n",
              "        vertical-align: middle;\n",
              "    }\n",
              "\n",
              "    .dataframe tbody tr th {\n",
              "        vertical-align: top;\n",
              "    }\n",
              "\n",
              "    .dataframe thead th {\n",
              "        text-align: right;\n",
              "    }\n",
              "</style>\n",
              "<table border=\"1\" class=\"dataframe\">\n",
              "  <thead>\n",
              "    <tr style=\"text-align: right;\">\n",
              "      <th></th>\n",
              "      <th>median_sale_price_yoy</th>\n",
              "      <th>median_list_price_yoy</th>\n",
              "      <th>median_list_ppsf_yoy</th>\n",
              "      <th>median_dom_yoy</th>\n",
              "      <th>homes_sold_yoy</th>\n",
              "      <th>new_listings_yoy</th>\n",
              "      <th>median_dom</th>\n",
              "      <th>avg_sale_to_list</th>\n",
              "    </tr>\n",
              "  </thead>\n",
              "  <tbody>\n",
              "    <tr>\n",
              "      <th>count</th>\n",
              "      <td>71603.000000</td>\n",
              "      <td>69431.000000</td>\n",
              "      <td>69412.000000</td>\n",
              "      <td>70785.000000</td>\n",
              "      <td>71603.000000</td>\n",
              "      <td>69434.000000</td>\n",
              "      <td>75198.000000</td>\n",
              "      <td>75985.000000</td>\n",
              "    </tr>\n",
              "    <tr>\n",
              "      <th>mean</th>\n",
              "      <td>0.135753</td>\n",
              "      <td>0.118772</td>\n",
              "      <td>0.155925</td>\n",
              "      <td>-5.643067</td>\n",
              "      <td>0.254664</td>\n",
              "      <td>0.167462</td>\n",
              "      <td>47.478184</td>\n",
              "      <td>1.007669</td>\n",
              "    </tr>\n",
              "    <tr>\n",
              "      <th>std</th>\n",
              "      <td>0.455915</td>\n",
              "      <td>0.708248</td>\n",
              "      <td>14.032588</td>\n",
              "      <td>94.968145</td>\n",
              "      <td>3.201637</td>\n",
              "      <td>1.907540</td>\n",
              "      <td>76.356905</td>\n",
              "      <td>0.053709</td>\n",
              "    </tr>\n",
              "    <tr>\n",
              "      <th>min</th>\n",
              "      <td>-0.968829</td>\n",
              "      <td>-0.999436</td>\n",
              "      <td>-0.999751</td>\n",
              "      <td>-7371.000000</td>\n",
              "      <td>-0.966667</td>\n",
              "      <td>-0.944444</td>\n",
              "      <td>1.000000</td>\n",
              "      <td>0.555556</td>\n",
              "    </tr>\n",
              "    <tr>\n",
              "      <th>25%</th>\n",
              "      <td>0.019435</td>\n",
              "      <td>0.017430</td>\n",
              "      <td>0.021218</td>\n",
              "      <td>-14.500000</td>\n",
              "      <td>-0.194444</td>\n",
              "      <td>-0.183673</td>\n",
              "      <td>18.000000</td>\n",
              "      <td>0.985364</td>\n",
              "    </tr>\n",
              "    <tr>\n",
              "      <th>50%</th>\n",
              "      <td>0.093535</td>\n",
              "      <td>0.082391</td>\n",
              "      <td>0.079571</td>\n",
              "      <td>-2.500000</td>\n",
              "      <td>0.000000</td>\n",
              "      <td>0.000000</td>\n",
              "      <td>34.000000</td>\n",
              "      <td>1.000000</td>\n",
              "    </tr>\n",
              "    <tr>\n",
              "      <th>75%</th>\n",
              "      <td>0.189884</td>\n",
              "      <td>0.164450</td>\n",
              "      <td>0.157268</td>\n",
              "      <td>6.500000</td>\n",
              "      <td>0.250000</td>\n",
              "      <td>0.213333</td>\n",
              "      <td>54.000000</td>\n",
              "      <td>1.023161</td>\n",
              "    </tr>\n",
              "    <tr>\n",
              "      <th>max</th>\n",
              "      <td>40.844895</td>\n",
              "      <td>125.001260</td>\n",
              "      <td>3696.621582</td>\n",
              "      <td>7309.000000</td>\n",
              "      <td>210.000000</td>\n",
              "      <td>141.000000</td>\n",
              "      <td>7376.000000</td>\n",
              "      <td>1.967742</td>\n",
              "    </tr>\n",
              "  </tbody>\n",
              "</table>\n",
              "</div>\n",
              "      <button class=\"colab-df-convert\" onclick=\"convertToInteractive('df-f03d8a61-98e1-4847-b365-522977f7d230')\"\n",
              "              title=\"Convert this dataframe to an interactive table.\"\n",
              "              style=\"display:none;\">\n",
              "        \n",
              "  <svg xmlns=\"http://www.w3.org/2000/svg\" height=\"24px\"viewBox=\"0 0 24 24\"\n",
              "       width=\"24px\">\n",
              "    <path d=\"M0 0h24v24H0V0z\" fill=\"none\"/>\n",
              "    <path d=\"M18.56 5.44l.94 2.06.94-2.06 2.06-.94-2.06-.94-.94-2.06-.94 2.06-2.06.94zm-11 1L8.5 8.5l.94-2.06 2.06-.94-2.06-.94L8.5 2.5l-.94 2.06-2.06.94zm10 10l.94 2.06.94-2.06 2.06-.94-2.06-.94-.94-2.06-.94 2.06-2.06.94z\"/><path d=\"M17.41 7.96l-1.37-1.37c-.4-.4-.92-.59-1.43-.59-.52 0-1.04.2-1.43.59L10.3 9.45l-7.72 7.72c-.78.78-.78 2.05 0 2.83L4 21.41c.39.39.9.59 1.41.59.51 0 1.02-.2 1.41-.59l7.78-7.78 2.81-2.81c.8-.78.8-2.07 0-2.86zM5.41 20L4 18.59l7.72-7.72 1.47 1.35L5.41 20z\"/>\n",
              "  </svg>\n",
              "      </button>\n",
              "      \n",
              "  <style>\n",
              "    .colab-df-container {\n",
              "      display:flex;\n",
              "      flex-wrap:wrap;\n",
              "      gap: 12px;\n",
              "    }\n",
              "\n",
              "    .colab-df-convert {\n",
              "      background-color: #E8F0FE;\n",
              "      border: none;\n",
              "      border-radius: 50%;\n",
              "      cursor: pointer;\n",
              "      display: none;\n",
              "      fill: #1967D2;\n",
              "      height: 32px;\n",
              "      padding: 0 0 0 0;\n",
              "      width: 32px;\n",
              "    }\n",
              "\n",
              "    .colab-df-convert:hover {\n",
              "      background-color: #E2EBFA;\n",
              "      box-shadow: 0px 1px 2px rgba(60, 64, 67, 0.3), 0px 1px 3px 1px rgba(60, 64, 67, 0.15);\n",
              "      fill: #174EA6;\n",
              "    }\n",
              "\n",
              "    [theme=dark] .colab-df-convert {\n",
              "      background-color: #3B4455;\n",
              "      fill: #D2E3FC;\n",
              "    }\n",
              "\n",
              "    [theme=dark] .colab-df-convert:hover {\n",
              "      background-color: #434B5C;\n",
              "      box-shadow: 0px 1px 3px 1px rgba(0, 0, 0, 0.15);\n",
              "      filter: drop-shadow(0px 1px 2px rgba(0, 0, 0, 0.3));\n",
              "      fill: #FFFFFF;\n",
              "    }\n",
              "  </style>\n",
              "\n",
              "      <script>\n",
              "        const buttonEl =\n",
              "          document.querySelector('#df-f03d8a61-98e1-4847-b365-522977f7d230 button.colab-df-convert');\n",
              "        buttonEl.style.display =\n",
              "          google.colab.kernel.accessAllowed ? 'block' : 'none';\n",
              "\n",
              "        async function convertToInteractive(key) {\n",
              "          const element = document.querySelector('#df-f03d8a61-98e1-4847-b365-522977f7d230');\n",
              "          const dataTable =\n",
              "            await google.colab.kernel.invokeFunction('convertToInteractive',\n",
              "                                                     [key], {});\n",
              "          if (!dataTable) return;\n",
              "\n",
              "          const docLinkHtml = 'Like what you see? Visit the ' +\n",
              "            '<a target=\"_blank\" href=https://colab.research.google.com/notebooks/data_table.ipynb>data table notebook</a>'\n",
              "            + ' to learn more about interactive tables.';\n",
              "          element.innerHTML = '';\n",
              "          dataTable['output_type'] = 'display_data';\n",
              "          await google.colab.output.renderOutput(dataTable, element);\n",
              "          const docLink = document.createElement('div');\n",
              "          docLink.innerHTML = docLinkHtml;\n",
              "          element.appendChild(docLink);\n",
              "        }\n",
              "      </script>\n",
              "    </div>\n",
              "  </div>\n",
              "  "
            ]
          },
          "metadata": {},
          "execution_count": 21
        }
      ]
    },
    {
      "cell_type": "markdown",
      "source": [
        "Describe shows some descriptive stats of the 41 numerical columns in the dataset."
      ],
      "metadata": {
        "id": "EIp9Tvb7SfGf"
      }
    },
    {
      "cell_type": "code",
      "source": [
        "# Function to plot Boxplot\n",
        "def plot_boxplot(df, col):\n",
        "  df.boxplot(column=[col])\n",
        "  plt.grid(False)\n",
        "  plt.show()"
      ],
      "metadata": {
        "id": "9VhJpSWbPPQr"
      },
      "execution_count": 96,
      "outputs": []
    },
    {
      "cell_type": "code",
      "source": [
        "plot_boxplot(df, \"median_sale_price_yoy\")"
      ],
      "metadata": {
        "colab": {
          "base_uri": "https://localhost:8080/",
          "height": 266
        },
        "id": "8sDX0xtNs84m",
        "outputId": "cc6bc616-a257-49d2-a85b-9cf11bf35c5a"
      },
      "execution_count": 97,
      "outputs": [
        {
          "output_type": "display_data",
          "data": {
            "text/plain": [
              "<Figure size 432x288 with 1 Axes>"
            ],
            "image/png": "[encoded data removed]"
          },
          "metadata": {
            "needs_background": "light"
          }
        }
      ]
    },
    {
      "cell_type": "code",
      "source": [
        "plot_boxplot(df, \"median_list_price_yoy\")"
      ],
      "metadata": {
        "colab": {
          "base_uri": "https://localhost:8080/",
          "height": 266
        },
        "id": "78rCPr8kS4cn",
        "outputId": "bdae60c5-7dc5-4d1e-8528-ec7d2c66274d"
      },
      "execution_count": 98,
      "outputs": [
        {
          "output_type": "display_data",
          "data": {
            "text/plain": [
              "<Figure size 432x288 with 1 Axes>"
            ],
            "image/png": "[encoded data removed]"
          },
          "metadata": {
            "needs_background": "light"
          }
        }
      ]
    },
    {
      "cell_type": "code",
      "source": [
        "plot_boxplot(df, \"median_list_ppsf_yoy\")"
      ],
      "metadata": {
        "colab": {
          "base_uri": "https://localhost:8080/",
          "height": 266
        },
        "id": "8_Gw7_7hS4T7",
        "outputId": "d5148df1-34cc-4821-eb32-c3b32ba041bb"
      },
      "execution_count": 99,
      "outputs": [
        {
          "output_type": "display_data",
          "data": {
            "text/plain": [
              "<Figure size 432x288 with 1 Axes>"
            ],
            "image/png": "[encoded data removed]"
          },
          "metadata": {
            "needs_background": "light"
          }
        }
      ]
    },
    {
      "cell_type": "code",
      "source": [
        "plot_boxplot(df, \"median_dom_yoy\")"
      ],
      "metadata": {
        "colab": {
          "base_uri": "https://localhost:8080/",
          "height": 267
        },
        "id": "xrGTiU3XS4Ll",
        "outputId": "f38b1df2-e203-465f-8287-855294dc47de"
      },
      "execution_count": 100,
      "outputs": [
        {
          "output_type": "display_data",
          "data": {
            "text/plain": [
              "<Figure size 432x288 with 1 Axes>"
            ],
            "image/png": "[encoded data removed]"
          },
          "metadata": {
            "needs_background": "light"
          }
        }
      ]
    },
    {
      "cell_type": "code",
      "source": [
        "plot_boxplot(df, \"homes_sold_yoy\")"
      ],
      "metadata": {
        "colab": {
          "base_uri": "https://localhost:8080/",
          "height": 269
        },
        "id": "nhcbhpLCS4Dd",
        "outputId": "627e3ff0-514e-4664-9d4a-feb73660910b"
      },
      "execution_count": 101,
      "outputs": [
        {
          "output_type": "display_data",
          "data": {
            "text/plain": [
              "<Figure size 432x288 with 1 Axes>"
            ],
            "image/png": "[encoded data removed]"
          },
          "metadata": {
            "needs_background": "light"
          }
        }
      ]
    },
    {
      "cell_type": "code",
      "source": [
        "plot_boxplot(df, \"new_listings_yoy\")"
      ],
      "metadata": {
        "colab": {
          "base_uri": "https://localhost:8080/",
          "height": 266
        },
        "id": "5DsIL9EXS37H",
        "outputId": "8b70d435-22fc-45fe-b900-af9f02341be3"
      },
      "execution_count": 102,
      "outputs": [
        {
          "output_type": "display_data",
          "data": {
            "text/plain": [
              "<Figure size 432x288 with 1 Axes>"
            ],
            "image/png": "[encoded data removed]"
          },
          "metadata": {
            "needs_background": "light"
          }
        }
      ]
    },
    {
      "cell_type": "code",
      "source": [
        "plot_boxplot(df, \"median_dom\")"
      ],
      "metadata": {
        "colab": {
          "base_uri": "https://localhost:8080/",
          "height": 266
        },
        "id": "UyeXDHPJS3y0",
        "outputId": "ffde0191-8677-4c3a-cb27-2f7c1925055a"
      },
      "execution_count": 103,
      "outputs": [
        {
          "output_type": "display_data",
          "data": {
            "text/plain": [
              "<Figure size 432x288 with 1 Axes>"
            ],
            "image/png": "[encoded data removed]"
          },
          "metadata": {
            "needs_background": "light"
          }
        }
      ]
    },
    {
      "cell_type": "code",
      "source": [
        "plot_boxplot(df, \"avg_sale_to_list\")"
      ],
      "metadata": {
        "colab": {
          "base_uri": "https://localhost:8080/",
          "height": 266
        },
        "id": "Q_8NxMFqS3p8",
        "outputId": "0b839a26-84ed-4ca7-8cc2-83d66d83249d"
      },
      "execution_count": 104,
      "outputs": [
        {
          "output_type": "display_data",
          "data": {
            "text/plain": [
              "<Figure size 432x288 with 1 Axes>"
            ],
            "image/png": "[encoded data removed]"
          },
          "metadata": {
            "needs_background": "light"
          }
        }
      ]
    },
    {
      "cell_type": "code",
      "source": [
        "df = pd.read_csv('raw_df.csv')\n",
        "df.shape"
      ],
      "metadata": {
        "id": "mb7WBpgWXND6",
        "colab": {
          "base_uri": "https://localhost:8080/"
        },
        "outputId": "017219df-6aea-4c85-8d87-e517952324d7"
      },
      "execution_count": 105,
      "outputs": [
        {
          "output_type": "execute_result",
          "data": {
            "text/plain": [
              "(28296, 9)"
            ]
          },
          "metadata": {},
          "execution_count": 105
        }
      ]
    },
    {
      "cell_type": "code",
      "source": [
        "df.isna().sum()"
      ],
      "metadata": {
        "id": "EqVBpZZ6NhmT",
        "colab": {
          "base_uri": "https://localhost:8080/"
        },
        "outputId": "6b37a31c-9e2c-43a2-b332-495560330ae9"
      },
      "execution_count": 106,
      "outputs": [
        {
          "output_type": "execute_result",
          "data": {
            "text/plain": [
              "region                    0\n",
              "median_sale_price_yoy    15\n",
              "median_list_price_yoy    49\n",
              "median_list_ppsf_yoy     49\n",
              "median_dom_yoy           65\n",
              "homes_sold_yoy           15\n",
              "new_listings_yoy         49\n",
              "median_dom               13\n",
              "avg_sale_to_list          0\n",
              "dtype: int64"
            ]
          },
          "metadata": {},
          "execution_count": 106
        }
      ]
    },
    {
      "cell_type": "code",
      "source": [
        "df.isnull().mean()*100\n"
      ],
      "metadata": {
        "colab": {
          "base_uri": "https://localhost:8080/"
        },
        "id": "Z6m5do4OZJhF",
        "outputId": "d49da4c1-2150-4488-bb02-4bb3cf8d5a1a"
      },
      "execution_count": 40,
      "outputs": [
        {
          "output_type": "execute_result",
          "data": {
            "text/plain": [
              "region                   0.000000\n",
              "median_sale_price_yoy    5.785526\n",
              "median_list_price_yoy    8.643421\n",
              "median_list_ppsf_yoy     8.668421\n",
              "median_dom_yoy           6.861842\n",
              "homes_sold_yoy           5.785526\n",
              "new_listings_yoy         8.639474\n",
              "median_dom               1.055263\n",
              "avg_sale_to_list         0.019737\n",
              "dtype: float64"
            ]
          },
          "metadata": {},
          "execution_count": 40
        }
      ]
    },
    {
      "cell_type": "code",
      "source": [
        "import missingno as msno\n",
        "\n",
        "msno.matrix(df)"
      ],
      "metadata": {
        "colab": {
          "base_uri": "https://localhost:8080/",
          "height": 539
        },
        "id": "Qp0l3QHbZe_U",
        "outputId": "622abb14-bb8e-4724-93b0-49f769daa59f"
      },
      "execution_count": 108,
      "outputs": [
        {
          "output_type": "execute_result",
          "data": {
            "text/plain": [
              "<matplotlib.axes._subplots.AxesSubplot at 0x7ff5f28fb390>"
            ]
          },
          "metadata": {},
          "execution_count": 108
        },
        {
          "output_type": "display_data",
          "data": {
            "text/plain": [
              "<Figure size 1800x720 with 2 Axes>"
            ],
            "image/png": "[encoded data removed]"
          },
          "metadata": {
            "needs_background": "light"
          }
        }
      ]
    },
    {
      "cell_type": "code",
      "source": [
        "# Imputing with MICE\n",
        "from sklearn.experimental import enable_iterative_imputer\n",
        "from sklearn.impute import IterativeImputer\n",
        "from sklearn import linear_model\n",
        "\n",
        "df_mice = df.filter(['median_sale_price_yoy','median_list_price_yoy','median_list_ppsf_yoy','median_dom_yoy', 'homes_sold_yoy', 'new_listings_yoy', 'median_dom', 'avg_sale_to_list'], axis=1).copy()\n",
        "\n",
        "# Define MICE Imputer and fill missing values\n",
        "mice_imputer = IterativeImputer(estimator=linear_model.BayesianRidge(), n_nearest_features=None, imputation_order='ascending')\n",
        "\n",
        "df_mice_imputed = pd.DataFrame(mice_imputer.fit_transform(df_mice), columns=df_mice.columns)"
      ],
      "metadata": {
        "id": "GU-EuVZJCO0b"
      },
      "execution_count": 126,
      "outputs": []
    },
    {
      "cell_type": "code",
      "source": [
        "\n",
        "fig = plt.Figure()\n",
        "null_values = df['median_list_ppsf_yoy'].isnull() \n",
        "fig = df_mice_imputed.plot(x='median_list_ppsf_yoy', y='median_list_ppsf_yoy', kind='scatter', c=null_values, cmap='winter', title='MICE Imputation', colorbar=False)"
      ],
      "metadata": {
        "colab": {
          "base_uri": "https://localhost:8080/",
          "height": 296
        },
        "id": "v2mZWKh7anKV",
        "outputId": "22d1dba6-faa1-4941-c88d-8eb7cf8cbc13"
      },
      "execution_count": 127,
      "outputs": [
        {
          "output_type": "display_data",
          "data": {
            "text/plain": [
              "<Figure size 432x288 with 1 Axes>"
            ],
            "image/png": "[encoded data removed]"
          },
          "metadata": {
            "needs_background": "light"
          }
        }
      ]
    },
    {
      "cell_type": "code",
      "source": [
        "df_mice_imputed.isna().sum()"
      ],
      "metadata": {
        "colab": {
          "base_uri": "https://localhost:8080/"
        },
        "id": "BuI9zqnybTh2",
        "outputId": "53366eaa-2681-48af-b06e-38d7d2b25f9f"
      },
      "execution_count": 111,
      "outputs": [
        {
          "output_type": "execute_result",
          "data": {
            "text/plain": [
              "median_sale_price_yoy    0\n",
              "median_list_price_yoy    0\n",
              "median_list_ppsf_yoy     0\n",
              "median_dom_yoy           0\n",
              "homes_sold_yoy           0\n",
              "new_listings_yoy         0\n",
              "median_dom               0\n",
              "avg_sale_to_list         0\n",
              "dtype: int64"
            ]
          },
          "metadata": {},
          "execution_count": 111
        }
      ]
    },
    {
      "cell_type": "code",
      "source": [
        "len(df_mice_imputed)"
      ],
      "metadata": {
        "colab": {
          "base_uri": "https://localhost:8080/"
        },
        "id": "kVqbFPAAjsNr",
        "outputId": "9e6e4a18-f52e-4ad1-95b5-e0e8b8d15811"
      },
      "execution_count": 128,
      "outputs": [
        {
          "output_type": "execute_result",
          "data": {
            "text/plain": [
              "28296"
            ]
          },
          "metadata": {},
          "execution_count": 128
        }
      ]
    },
    {
      "cell_type": "code",
      "source": [
        "# dfc = df.copy()\n",
        "# dfc.dropna()\n",
        "# dfc.shape"
      ],
      "metadata": {
        "colab": {
          "base_uri": "https://localhost:8080/"
        },
        "id": "qARl6IoWxZKn",
        "outputId": "b7fdcfa9-8a8c-4a4e-f18a-6adedb82504a"
      },
      "execution_count": 20,
      "outputs": [
        {
          "output_type": "execute_result",
          "data": {
            "text/plain": [
              "(76000, 9)"
            ]
          },
          "metadata": {},
          "execution_count": 20
        }
      ]
    },
    {
      "cell_type": "code",
      "source": [
        "df_mice_imputed.shape"
      ],
      "metadata": {
        "colab": {
          "base_uri": "https://localhost:8080/"
        },
        "id": "Fl_8yiQJCN33",
        "outputId": "bd247a1d-2aac-4790-8e21-d21527097e9a"
      },
      "execution_count": 129,
      "outputs": [
        {
          "output_type": "execute_result",
          "data": {
            "text/plain": [
              "(28296, 8)"
            ]
          },
          "metadata": {},
          "execution_count": 129
        }
      ]
    },
    {
      "cell_type": "code",
      "source": [
        "df_mice_imputed.describe()"
      ],
      "metadata": {
        "colab": {
          "base_uri": "https://localhost:8080/",
          "height": 364
        },
        "id": "Jzdv9wYYjFFT",
        "outputId": "8d1ad7ac-e5f2-431c-9e8d-e28ed02dfad7"
      },
      "execution_count": 137,
      "outputs": [
        {
          "output_type": "execute_result",
          "data": {
            "text/plain": [
              "       median_sale_price_yoy  median_list_price_yoy  median_list_ppsf_yoy  \\\n",
              "count           28296.000000           28296.000000          28296.000000   \n",
              "mean                0.150589               0.129791              0.127884   \n",
              "std                 0.120294               0.330752              0.107836   \n",
              "min                -0.692000              -0.928384             -0.770682   \n",
              "25%                 0.077050               0.061549              0.064506   \n",
              "50%                 0.141667               0.119461              0.121295   \n",
              "75%                 0.209973               0.181984              0.183140   \n",
              "max                 1.758726              37.003839              6.084880   \n",
              "\n",
              "       median_dom_yoy  homes_sold_yoy  new_listings_yoy    median_dom  \\\n",
              "count    28296.000000    28296.000000      28296.000000  28296.000000   \n",
              "mean        -9.050782        0.120482          0.170507     27.790937   \n",
              "std         18.122230        0.443995          2.228728     18.678594   \n",
              "min       -384.000000       -0.747475         -1.942899      4.000000   \n",
              "25%        -16.000000       -0.165049         -0.173913     12.500000   \n",
              "50%         -6.000000        0.032450          0.004754     25.000000   \n",
              "75%          0.500000        0.288136          0.239437     37.000000   \n",
              "max        278.500000        4.833333        141.000000    136.500000   \n",
              "\n",
              "       avg_sale_to_list  \n",
              "count      28296.000000  \n",
              "mean           1.027788  \n",
              "std            0.046539  \n",
              "min            0.878534  \n",
              "25%            1.000606  \n",
              "50%            1.017784  \n",
              "75%            1.039479  \n",
              "max            1.438470  "
            ],
            "text/html": [
              "\n",
              "  <div id=\"df-8ce82ea6-0c2f-4492-b742-7a543689847b\">\n",
              "    <div class=\"colab-df-container\">\n",
              "      <div>\n",
              "<style scoped>\n",
              "    .dataframe tbody tr th:only-of-type {\n",
              "        vertical-align: middle;\n",
              "    }\n",
              "\n",
              "    .dataframe tbody tr th {\n",
              "        vertical-align: top;\n",
              "    }\n",
              "\n",
              "    .dataframe thead th {\n",
              "        text-align: right;\n",
              "    }\n",
              "</style>\n",
              "<table border=\"1\" class=\"dataframe\">\n",
              "  <thead>\n",
              "    <tr style=\"text-align: right;\">\n",
              "      <th></th>\n",
              "      <th>median_sale_price_yoy</th>\n",
              "      <th>median_list_price_yoy</th>\n",
              "      <th>median_list_ppsf_yoy</th>\n",
              "      <th>median_dom_yoy</th>\n",
              "      <th>homes_sold_yoy</th>\n",
              "      <th>new_listings_yoy</th>\n",
              "      <th>median_dom</th>\n",
              "      <th>avg_sale_to_list</th>\n",
              "    </tr>\n",
              "  </thead>\n",
              "  <tbody>\n",
              "    <tr>\n",
              "      <th>count</th>\n",
              "      <td>28296.000000</td>\n",
              "      <td>28296.000000</td>\n",
              "      <td>28296.000000</td>\n",
              "      <td>28296.000000</td>\n",
              "      <td>28296.000000</td>\n",
              "      <td>28296.000000</td>\n",
              "      <td>28296.000000</td>\n",
              "      <td>28296.000000</td>\n",
              "    </tr>\n",
              "    <tr>\n",
              "      <th>mean</th>\n",
              "      <td>0.150589</td>\n",
              "      <td>0.129791</td>\n",
              "      <td>0.127884</td>\n",
              "      <td>-9.050782</td>\n",
              "      <td>0.120482</td>\n",
              "      <td>0.170507</td>\n",
              "      <td>27.790937</td>\n",
              "      <td>1.027788</td>\n",
              "    </tr>\n",
              "    <tr>\n",
              "      <th>std</th>\n",
              "      <td>0.120294</td>\n",
              "      <td>0.330752</td>\n",
              "      <td>0.107836</td>\n",
              "      <td>18.122230</td>\n",
              "      <td>0.443995</td>\n",
              "      <td>2.228728</td>\n",
              "      <td>18.678594</td>\n",
              "      <td>0.046539</td>\n",
              "    </tr>\n",
              "    <tr>\n",
              "      <th>min</th>\n",
              "      <td>-0.692000</td>\n",
              "      <td>-0.928384</td>\n",
              "      <td>-0.770682</td>\n",
              "      <td>-384.000000</td>\n",
              "      <td>-0.747475</td>\n",
              "      <td>-1.942899</td>\n",
              "      <td>4.000000</td>\n",
              "      <td>0.878534</td>\n",
              "    </tr>\n",
              "    <tr>\n",
              "      <th>25%</th>\n",
              "      <td>0.077050</td>\n",
              "      <td>0.061549</td>\n",
              "      <td>0.064506</td>\n",
              "      <td>-16.000000</td>\n",
              "      <td>-0.165049</td>\n",
              "      <td>-0.173913</td>\n",
              "      <td>12.500000</td>\n",
              "      <td>1.000606</td>\n",
              "    </tr>\n",
              "    <tr>\n",
              "      <th>50%</th>\n",
              "      <td>0.141667</td>\n",
              "      <td>0.119461</td>\n",
              "      <td>0.121295</td>\n",
              "      <td>-6.000000</td>\n",
              "      <td>0.032450</td>\n",
              "      <td>0.004754</td>\n",
              "      <td>25.000000</td>\n",
              "      <td>1.017784</td>\n",
              "    </tr>\n",
              "    <tr>\n",
              "      <th>75%</th>\n",
              "      <td>0.209973</td>\n",
              "      <td>0.181984</td>\n",
              "      <td>0.183140</td>\n",
              "      <td>0.500000</td>\n",
              "      <td>0.288136</td>\n",
              "      <td>0.239437</td>\n",
              "      <td>37.000000</td>\n",
              "      <td>1.039479</td>\n",
              "    </tr>\n",
              "    <tr>\n",
              "      <th>max</th>\n",
              "      <td>1.758726</td>\n",
              "      <td>37.003839</td>\n",
              "      <td>6.084880</td>\n",
              "      <td>278.500000</td>\n",
              "      <td>4.833333</td>\n",
              "      <td>141.000000</td>\n",
              "      <td>136.500000</td>\n",
              "      <td>1.438470</td>\n",
              "    </tr>\n",
              "  </tbody>\n",
              "</table>\n",
              "</div>\n",
              "      <button class=\"colab-df-convert\" onclick=\"convertToInteractive('df-8ce82ea6-0c2f-4492-b742-7a543689847b')\"\n",
              "              title=\"Convert this dataframe to an interactive table.\"\n",
              "              style=\"display:none;\">\n",
              "        \n",
              "  <svg xmlns=\"http://www.w3.org/2000/svg\" height=\"24px\"viewBox=\"0 0 24 24\"\n",
              "       width=\"24px\">\n",
              "    <path d=\"M0 0h24v24H0V0z\" fill=\"none\"/>\n",
              "    <path d=\"M18.56 5.44l.94 2.06.94-2.06 2.06-.94-2.06-.94-.94-2.06-.94 2.06-2.06.94zm-11 1L8.5 8.5l.94-2.06 2.06-.94-2.06-.94L8.5 2.5l-.94 2.06-2.06.94zm10 10l.94 2.06.94-2.06 2.06-.94-2.06-.94-.94-2.06-.94 2.06-2.06.94z\"/><path d=\"M17.41 7.96l-1.37-1.37c-.4-.4-.92-.59-1.43-.59-.52 0-1.04.2-1.43.59L10.3 9.45l-7.72 7.72c-.78.78-.78 2.05 0 2.83L4 21.41c.39.39.9.59 1.41.59.51 0 1.02-.2 1.41-.59l7.78-7.78 2.81-2.81c.8-.78.8-2.07 0-2.86zM5.41 20L4 18.59l7.72-7.72 1.47 1.35L5.41 20z\"/>\n",
              "  </svg>\n",
              "      </button>\n",
              "      \n",
              "  <style>\n",
              "    .colab-df-container {\n",
              "      display:flex;\n",
              "      flex-wrap:wrap;\n",
              "      gap: 12px;\n",
              "    }\n",
              "\n",
              "    .colab-df-convert {\n",
              "      background-color: #E8F0FE;\n",
              "      border: none;\n",
              "      border-radius: 50%;\n",
              "      cursor: pointer;\n",
              "      display: none;\n",
              "      fill: #1967D2;\n",
              "      height: 32px;\n",
              "      padding: 0 0 0 0;\n",
              "      width: 32px;\n",
              "    }\n",
              "\n",
              "    .colab-df-convert:hover {\n",
              "      background-color: #E2EBFA;\n",
              "      box-shadow: 0px 1px 2px rgba(60, 64, 67, 0.3), 0px 1px 3px 1px rgba(60, 64, 67, 0.15);\n",
              "      fill: #174EA6;\n",
              "    }\n",
              "\n",
              "    [theme=dark] .colab-df-convert {\n",
              "      background-color: #3B4455;\n",
              "      fill: #D2E3FC;\n",
              "    }\n",
              "\n",
              "    [theme=dark] .colab-df-convert:hover {\n",
              "      background-color: #434B5C;\n",
              "      box-shadow: 0px 1px 3px 1px rgba(0, 0, 0, 0.15);\n",
              "      filter: drop-shadow(0px 1px 2px rgba(0, 0, 0, 0.3));\n",
              "      fill: #FFFFFF;\n",
              "    }\n",
              "  </style>\n",
              "\n",
              "      <script>\n",
              "        const buttonEl =\n",
              "          document.querySelector('#df-8ce82ea6-0c2f-4492-b742-7a543689847b button.colab-df-convert');\n",
              "        buttonEl.style.display =\n",
              "          google.colab.kernel.accessAllowed ? 'block' : 'none';\n",
              "\n",
              "        async function convertToInteractive(key) {\n",
              "          const element = document.querySelector('#df-8ce82ea6-0c2f-4492-b742-7a543689847b');\n",
              "          const dataTable =\n",
              "            await google.colab.kernel.invokeFunction('convertToInteractive',\n",
              "                                                     [key], {});\n",
              "          if (!dataTable) return;\n",
              "\n",
              "          const docLinkHtml = 'Like what you see? Visit the ' +\n",
              "            '<a target=\"_blank\" href=https://colab.research.google.com/notebooks/data_table.ipynb>data table notebook</a>'\n",
              "            + ' to learn more about interactive tables.';\n",
              "          element.innerHTML = '';\n",
              "          dataTable['output_type'] = 'display_data';\n",
              "          await google.colab.output.renderOutput(dataTable, element);\n",
              "          const docLink = document.createElement('div');\n",
              "          docLink.innerHTML = docLinkHtml;\n",
              "          element.appendChild(docLink);\n",
              "        }\n",
              "      </script>\n",
              "    </div>\n",
              "  </div>\n",
              "  "
            ]
          },
          "metadata": {},
          "execution_count": 137
        }
      ]
    },
    {
      "cell_type": "code",
      "source": [
        "df = df_mice_imputed"
      ],
      "metadata": {
        "id": "I_NukELklmPP"
      },
      "execution_count": 136,
      "outputs": []
    },
    {
      "cell_type": "markdown",
      "source": [
        "###Let’s treat the outliers for ‘median_dom’ and ‘homes_sold_yoy’ by capping the max value at the 99% percentile using the following code."
      ],
      "metadata": {
        "id": "2IaB8daUlcts"
      }
    },
    {
      "cell_type": "code",
      "source": [
        "percentiles=df['median_dom'].quantile([0.00,0.99]).values\n",
        "len(percentiles)"
      ],
      "metadata": {
        "colab": {
          "base_uri": "https://localhost:8080/"
        },
        "id": "Yuh78YgHmAhD",
        "outputId": "781a2ee1-fc55-408b-d9a8-e686a58f3b83"
      },
      "execution_count": 135,
      "outputs": [
        {
          "output_type": "execute_result",
          "data": {
            "text/plain": [
              "2"
            ]
          },
          "metadata": {},
          "execution_count": 135
        }
      ]
    },
    {
      "cell_type": "code",
      "source": [
        "#Find the 99% percentile value in the 'median_dom' column\n",
        "percentiles=df['median_dom'].quantile([0.00,0.99]).values\n",
        "percentiles\n",
        "#Replace the outlier with the 99% percentile value\n",
        "df[\"median_dom\"] = np.where(df[\"median_dom\"] >=137, 53.039,df['median_dom'])\n",
        "\n",
        "\n",
        "#Find the 99% value in the 'homes_sold_yoy' column\n",
        "percentiles=df['homes_sold_yoy'].quantile([0.00,0.99]).values\n",
        "percentiles\n",
        "#Replace the outlier with the 99% percentile value\n",
        "df[\"homes_sold_yoy\"] = np.where(df[\"homes_sold_yoy\"] >=5, 1.80475,df['homes_sold_yoy'])"
      ],
      "metadata": {
        "id": "Rw-zwwaclTU_"
      },
      "execution_count": 131,
      "outputs": []
    },
    {
      "cell_type": "code",
      "source": [],
      "metadata": {
        "id": "QubuOKVdlWC5"
      },
      "execution_count": null,
      "outputs": []
    },
    {
      "cell_type": "code",
      "source": [],
      "metadata": {
        "id": "aNCDOqMJlV4y"
      },
      "execution_count": null,
      "outputs": []
    },
    {
      "cell_type": "code",
      "source": [],
      "metadata": {
        "id": "YKBYvIEAl2t7"
      },
      "execution_count": null,
      "outputs": []
    },
    {
      "cell_type": "code",
      "source": [
        "def outliers(df, ft):\n",
        "  # q1 = df[ft].quatile(0.25)\n",
        "  # q3 = df[ft].quatile(0.75)\n",
        "  q1, q3= np.percentile(df,[25,75])\n",
        "  iqr = q3 - q1\n",
        "  \n",
        "  lower_bound = q1 - 1.5 * iqr\n",
        "  upper_bound = q3 + 1.5 * iqr\n",
        "\n",
        "  ls = df.index[ (df[ft] < lower_bound) | (df[ft] > upper_bound) ]\n",
        "  return ls"
      ],
      "metadata": {
        "id": "zKT7fDIbTcaU"
      },
      "execution_count": 144,
      "outputs": []
    },
    {
      "cell_type": "code",
      "source": [
        "index_list = []\n",
        "for feature in new_df.columns:\n",
        "  index_list.extend(outliers(df_mice_imputed, feature))"
      ],
      "metadata": {
        "id": "RMleq7s2Q7FF"
      },
      "execution_count": 145,
      "outputs": []
    },
    {
      "cell_type": "code",
      "source": [
        "len(index_list)"
      ],
      "metadata": {
        "colab": {
          "base_uri": "https://localhost:8080/"
        },
        "id": "VsevyMNrbsur",
        "outputId": "0ea2041e-ae20-437f-d48f-071c7893180e"
      },
      "execution_count": 146,
      "outputs": [
        {
          "output_type": "execute_result",
          "data": {
            "text/plain": [
              "52637"
            ]
          },
          "metadata": {},
          "execution_count": 146
        }
      ]
    },
    {
      "cell_type": "code",
      "source": [
        "# Remove outliers\n",
        "def remove(df, ls):\n",
        "  ls = sorted(set(ls))\n",
        "  df = df.drop(ls)\n",
        "  return df\n"
      ],
      "metadata": {
        "id": "SZI5vnzQd0eZ"
      },
      "execution_count": 119,
      "outputs": []
    },
    {
      "cell_type": "code",
      "source": [
        "df_cleaned = remove(df_mice_imputed, index_list)"
      ],
      "metadata": {
        "id": "bsQpAHCneV7w"
      },
      "execution_count": 120,
      "outputs": []
    },
    {
      "cell_type": "code",
      "source": [
        "df_cleaned.shape"
      ],
      "metadata": {
        "colab": {
          "base_uri": "https://localhost:8080/"
        },
        "id": "2JFP9WFKeVw9",
        "outputId": "ad51238b-5d13-4a64-d170-cf06a55ac796"
      },
      "execution_count": 121,
      "outputs": [
        {
          "output_type": "execute_result",
          "data": {
            "text/plain": [
              "(0, 8)"
            ]
          },
          "metadata": {},
          "execution_count": 121
        }
      ]
    },
    {
      "cell_type": "code",
      "source": [
        "df_cleaned.head()"
      ],
      "metadata": {
        "colab": {
          "base_uri": "https://localhost:8080/",
          "height": 113
        },
        "id": "GM8w6z6LeVk8",
        "outputId": "3c8f7972-2be5-451e-9300-68339a9519b8"
      },
      "execution_count": 78,
      "outputs": [
        {
          "output_type": "execute_result",
          "data": {
            "text/plain": [
              "Empty DataFrame\n",
              "Columns: [median_sale_price_yoy, median_list_price_yoy, median_list_ppsf_yoy, median_dom_yoy, homes_sold_yoy, new_listings_yoy, median_dom, avg_sale_to_list]\n",
              "Index: []"
            ],
            "text/html": [
              "\n",
              "  <div id=\"df-6cfdb211-216c-4b72-aa7e-2eb68faa5c34\">\n",
              "    <div class=\"colab-df-container\">\n",
              "      <div>\n",
              "<style scoped>\n",
              "    .dataframe tbody tr th:only-of-type {\n",
              "        vertical-align: middle;\n",
              "    }\n",
              "\n",
              "    .dataframe tbody tr th {\n",
              "        vertical-align: top;\n",
              "    }\n",
              "\n",
              "    .dataframe thead th {\n",
              "        text-align: right;\n",
              "    }\n",
              "</style>\n",
              "<table border=\"1\" class=\"dataframe\">\n",
              "  <thead>\n",
              "    <tr style=\"text-align: right;\">\n",
              "      <th></th>\n",
              "      <th>median_sale_price_yoy</th>\n",
              "      <th>median_list_price_yoy</th>\n",
              "      <th>median_list_ppsf_yoy</th>\n",
              "      <th>median_dom_yoy</th>\n",
              "      <th>homes_sold_yoy</th>\n",
              "      <th>new_listings_yoy</th>\n",
              "      <th>median_dom</th>\n",
              "      <th>avg_sale_to_list</th>\n",
              "    </tr>\n",
              "  </thead>\n",
              "  <tbody>\n",
              "  </tbody>\n",
              "</table>\n",
              "</div>\n",
              "      <button class=\"colab-df-convert\" onclick=\"convertToInteractive('df-6cfdb211-216c-4b72-aa7e-2eb68faa5c34')\"\n",
              "              title=\"Convert this dataframe to an interactive table.\"\n",
              "              style=\"display:none;\">\n",
              "        \n",
              "  <svg xmlns=\"http://www.w3.org/2000/svg\" height=\"24px\"viewBox=\"0 0 24 24\"\n",
              "       width=\"24px\">\n",
              "    <path d=\"M0 0h24v24H0V0z\" fill=\"none\"/>\n",
              "    <path d=\"M18.56 5.44l.94 2.06.94-2.06 2.06-.94-2.06-.94-.94-2.06-.94 2.06-2.06.94zm-11 1L8.5 8.5l.94-2.06 2.06-.94-2.06-.94L8.5 2.5l-.94 2.06-2.06.94zm10 10l.94 2.06.94-2.06 2.06-.94-2.06-.94-.94-2.06-.94 2.06-2.06.94z\"/><path d=\"M17.41 7.96l-1.37-1.37c-.4-.4-.92-.59-1.43-.59-.52 0-1.04.2-1.43.59L10.3 9.45l-7.72 7.72c-.78.78-.78 2.05 0 2.83L4 21.41c.39.39.9.59 1.41.59.51 0 1.02-.2 1.41-.59l7.78-7.78 2.81-2.81c.8-.78.8-2.07 0-2.86zM5.41 20L4 18.59l7.72-7.72 1.47 1.35L5.41 20z\"/>\n",
              "  </svg>\n",
              "      </button>\n",
              "      \n",
              "  <style>\n",
              "    .colab-df-container {\n",
              "      display:flex;\n",
              "      flex-wrap:wrap;\n",
              "      gap: 12px;\n",
              "    }\n",
              "\n",
              "    .colab-df-convert {\n",
              "      background-color: #E8F0FE;\n",
              "      border: none;\n",
              "      border-radius: 50%;\n",
              "      cursor: pointer;\n",
              "      display: none;\n",
              "      fill: #1967D2;\n",
              "      height: 32px;\n",
              "      padding: 0 0 0 0;\n",
              "      width: 32px;\n",
              "    }\n",
              "\n",
              "    .colab-df-convert:hover {\n",
              "      background-color: #E2EBFA;\n",
              "      box-shadow: 0px 1px 2px rgba(60, 64, 67, 0.3), 0px 1px 3px 1px rgba(60, 64, 67, 0.15);\n",
              "      fill: #174EA6;\n",
              "    }\n",
              "\n",
              "    [theme=dark] .colab-df-convert {\n",
              "      background-color: #3B4455;\n",
              "      fill: #D2E3FC;\n",
              "    }\n",
              "\n",
              "    [theme=dark] .colab-df-convert:hover {\n",
              "      background-color: #434B5C;\n",
              "      box-shadow: 0px 1px 3px 1px rgba(0, 0, 0, 0.15);\n",
              "      filter: drop-shadow(0px 1px 2px rgba(0, 0, 0, 0.3));\n",
              "      fill: #FFFFFF;\n",
              "    }\n",
              "  </style>\n",
              "\n",
              "      <script>\n",
              "        const buttonEl =\n",
              "          document.querySelector('#df-6cfdb211-216c-4b72-aa7e-2eb68faa5c34 button.colab-df-convert');\n",
              "        buttonEl.style.display =\n",
              "          google.colab.kernel.accessAllowed ? 'block' : 'none';\n",
              "\n",
              "        async function convertToInteractive(key) {\n",
              "          const element = document.querySelector('#df-6cfdb211-216c-4b72-aa7e-2eb68faa5c34');\n",
              "          const dataTable =\n",
              "            await google.colab.kernel.invokeFunction('convertToInteractive',\n",
              "                                                     [key], {});\n",
              "          if (!dataTable) return;\n",
              "\n",
              "          const docLinkHtml = 'Like what you see? Visit the ' +\n",
              "            '<a target=\"_blank\" href=https://colab.research.google.com/notebooks/data_table.ipynb>data table notebook</a>'\n",
              "            + ' to learn more about interactive tables.';\n",
              "          element.innerHTML = '';\n",
              "          dataTable['output_type'] = 'display_data';\n",
              "          await google.colab.output.renderOutput(dataTable, element);\n",
              "          const docLink = document.createElement('div');\n",
              "          docLink.innerHTML = docLinkHtml;\n",
              "          element.appendChild(docLink);\n",
              "        }\n",
              "      </script>\n",
              "    </div>\n",
              "  </div>\n",
              "  "
            ]
          },
          "metadata": {},
          "execution_count": 78
        }
      ]
    },
    {
      "cell_type": "code",
      "source": [
        "#Find the 99% percentile value in the 'median_dom' column\n",
        "percentiles=df['median_dom'].quantile([0.00,0.99]).values\n",
        "percentiles\n",
        "#Replace the outlier with the 99% percentile value\n",
        "df[\"median_dom\"] = np.where(df[\"median_dom\"] >=137, 53.039,df['median_dom'])\n",
        "\n",
        "#Find the 99% value in the 'homes_sold_yoy' column\n",
        "percentiles=df['homes_sold_yoy'].quantile([0.00,0.99]).values\n",
        "percentiles\n",
        "#Replace the outlier with the 99% percentile value\n",
        "df[\"homes_sold_yoy\"] = np.where(df[\"homes_sold_yoy\"] >=5, 1.80475,df['homes_sold_yoy'])"
      ],
      "metadata": {
        "id": "z9-fdCkpZH9C"
      },
      "execution_count": null,
      "outputs": []
    },
    {
      "cell_type": "code",
      "source": [
        "quantile1, quantile3= np.percentile(new_df['avg_sale_to_list'],[25,75])"
      ],
      "metadata": {
        "id": "__weaU-vXxb5"
      },
      "execution_count": null,
      "outputs": []
    },
    {
      "cell_type": "code",
      "source": [
        "print(quantile1,quantile3)"
      ],
      "metadata": {
        "colab": {
          "base_uri": "https://localhost:8080/"
        },
        "id": "fGm4nGi6X3nX",
        "outputId": "14fb6f6d-1103-4b97-c230-110834c371e9"
      },
      "execution_count": null,
      "outputs": [
        {
          "output_type": "stream",
          "name": "stdout",
          "text": [
            "nan nan\n"
          ]
        }
      ]
    },
    {
      "cell_type": "code",
      "source": [
        "## Find the IQR\n",
        "iqr_value=quantile3-quantile1\n",
        "print(iqr_value)"
      ],
      "metadata": {
        "colab": {
          "base_uri": "https://localhost:8080/"
        },
        "id": "dS9zerZWX_ys",
        "outputId": "378fb68f-50fd-46eb-e458-13f33a6286e6"
      },
      "execution_count": null,
      "outputs": [
        {
          "output_type": "stream",
          "name": "stdout",
          "text": [
            "nan\n"
          ]
        }
      ]
    },
    {
      "cell_type": "markdown",
      "source": [
        "## Handling Outliers\n",
        "\n",
        "1. Trimming/removing the outlier\n",
        "2. Quantile based flooring and capping\n",
        "3. Mean/Median imputation"
      ],
      "metadata": {
        "id": "WkyyB1Z8MXCw"
      }
    },
    {
      "cell_type": "markdown",
      "source": [
        "## Technique to deal with missing values\n",
        "1. Drop the feature\n",
        "2. Drop the row\n",
        "3. Impute the missing value\n",
        "4. Replace it"
      ],
      "metadata": {
        "id": "8ihVHGrqSi99"
      }
    },
    {
      "cell_type": "markdown",
      "source": [
        "## Spelling errors in categorical data\n"
      ],
      "metadata": {
        "id": "UcX2zn-_TMd1"
      }
    },
    {
      "cell_type": "markdown",
      "source": [
        "## Converting to DateTime"
      ],
      "metadata": {
        "id": "MVNefwe1TSfV"
      }
    },
    {
      "cell_type": "markdown",
      "source": [
        "## Duplicates"
      ],
      "metadata": {
        "id": "Ik9tB6yaTU7F"
      }
    },
    {
      "cell_type": "code",
      "source": [],
      "metadata": {
        "id": "jWwqjR1Oj1Nt"
      },
      "execution_count": null,
      "outputs": []
    }
  ]
}