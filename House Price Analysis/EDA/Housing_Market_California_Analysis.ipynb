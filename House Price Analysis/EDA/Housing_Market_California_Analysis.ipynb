{
  "nbformat": 4,
  "nbformat_minor": 0,
  "metadata": {
    "colab": {
      "provenance": [],
      "collapsed_sections": [],
      "authorship_tag": "ABX9TyM063YLSlhSNTfRRtz4wwYc",
      "include_colab_link": true
    },
    "kernelspec": {
      "name": "python3",
      "display_name": "Python 3"
    },
    "language_info": {
      "name": "python"
    }
  },
  "cells": [
    {
      "cell_type": "markdown",
      "metadata": {
        "id": "view-in-github",
        "colab_type": "text"
      },
      "source": [
        "<a href=\"https://colab.research.google.com/github/kabirodavies/Data-Projects/blob/main/House%20Price%20Analysis/EDA/Housing_Market_California_Analysis.ipynb\" target=\"_parent\"><img src=\"https://colab.research.google.com/assets/colab-badge.svg\" alt=\"Open In Colab\"/></a>"
      ]
    },
    {
      "cell_type": "markdown",
      "source": [
        "### Study house price of single family residential property type in the State of California (CA) from 2018-01-01 to 2022."
      ],
      "metadata": {
        "id": "GRIf1TabgnbP"
      }
    },
    {
      "cell_type": "markdown",
      "source": [
        "## Importing Libraries"
      ],
      "metadata": {
        "id": "OkaKA65iYtPw"
      }
    },
    {
      "cell_type": "code",
      "source": [
        "#Import all the necessary libraries\n",
        "import pandas as pd\n",
        "import numpy as np\n",
        "import matplotlib.pyplot as plt\n",
        "import seaborn as sns\n",
        "from sklearn.preprocessing import StandardScaler, normalize, RobustScaler, MinMaxScaler\n",
        "from sklearn.cluster import KMeans\n",
        "from sklearn.decomposition import PCA\n",
        "import scipy.cluster.hierarchy as hc\n",
        "from sklearn.cluster import AgglomerativeClustering"
      ],
      "metadata": {
        "id": "c3GQxlu1YvkW"
      },
      "execution_count": 27,
      "outputs": []
    },
    {
      "cell_type": "markdown",
      "source": [
        "# Load the data\n",
        "\n",
        "*   Housing Market Data From Redfin.\n",
        "*   Redfin is a real estate brokerage, meaning we have direct access to data from local multiple listing services, as well as insight from our real estate agents across the country.\n",
        "\n",
        "\n"
      ],
      "metadata": {
        "id": "ewLCD9IWCXSp"
      }
    },
    {
      "cell_type": "code",
      "source": [
        "house_url = 'https://redfin-public-data.s3.us-west-2.amazonaws.com/redfin_market_tracker/zip_code_market_tracker.tsv000.gz'\n",
        "\n",
        "house_ori = pd.read_csv(house_url, compression='gzip', sep='\\t', quotechar='\"')\n",
        "house = house_ori.copy()\n"
      ],
      "metadata": {
        "id": "y-5tzIJ4ZEIN"
      },
      "execution_count": 3,
      "outputs": []
    },
    {
      "cell_type": "markdown",
      "source": [
        "# Exploratory Data Analysis\n",
        "\n",
        "Running head gives us a peek of our dataset. Although this doesn’t really tell us much about our data besides showing us how the data looks like."
      ],
      "metadata": {
        "id": "Zn5z87T-CgMN"
      }
    },
    {
      "cell_type": "code",
      "source": [
        "house.head()"
      ],
      "metadata": {
        "colab": {
          "base_uri": "https://localhost:8080/",
          "height": 473
        },
        "id": "350NfMSCZc89",
        "outputId": "0a83da7b-1e8a-440c-cb4c-410e9e2af434"
      },
      "execution_count": 4,
      "outputs": [
        {
          "output_type": "execute_result",
          "data": {
            "text/plain": [
              "  period_begin  period_end  period_duration region_type  region_type_id  \\\n",
              "0   2022-01-01  2022-03-31               90    zip code               2   \n",
              "1   2020-01-01  2020-03-31               90    zip code               2   \n",
              "2   2017-11-01  2018-01-31               90    zip code               2   \n",
              "3   2014-04-01  2014-06-30               90    zip code               2   \n",
              "4   2012-02-01  2012-04-30               90    zip code               2   \n",
              "\n",
              "   table_id is_seasonally_adjusted           region  city       state  ...  \\\n",
              "0     28652                      f  Zip Code: 66431   NaN      Kansas  ...   \n",
              "1     35743                      f  Zip Code: 83713   NaN       Idaho  ...   \n",
              "2     38464                      f  Zip Code: 92705   NaN  California  ...   \n",
              "3      8432                      f  Zip Code: 21208   NaN    Maryland  ...   \n",
              "4     39521                      f  Zip Code: 95301   NaN  California  ...   \n",
              "\n",
              "  sold_above_list_yoy price_drops  price_drops_mom  price_drops_yoy  \\\n",
              "0            0.000000         NaN              NaN              NaN   \n",
              "1            0.000000         NaN              NaN              NaN   \n",
              "2                 NaN         NaN              NaN              NaN   \n",
              "3            0.026786         NaN              NaN              NaN   \n",
              "4                 NaN         NaN              NaN              NaN   \n",
              "\n",
              "   off_market_in_two_weeks  off_market_in_two_weeks_mom  \\\n",
              "0                      NaN                          NaN   \n",
              "1                      NaN                          NaN   \n",
              "2                      NaN                          NaN   \n",
              "3                 0.636364                     0.454545   \n",
              "4                      NaN                          NaN   \n",
              "\n",
              "   off_market_in_two_weeks_yoy  parent_metro_region  \\\n",
              "0                          NaN           Topeka, KS   \n",
              "1                          NaN       Boise City, ID   \n",
              "2                          NaN          Anaheim, CA   \n",
              "3                     0.436364        Baltimore, MD   \n",
              "4                          NaN           Merced, CA   \n",
              "\n",
              "   parent_metro_region_metro_code         last_updated  \n",
              "0                           45820  2022-09-11 14:46:03  \n",
              "1                           14260  2022-09-11 14:46:03  \n",
              "2                           11244  2022-09-11 14:46:03  \n",
              "3                           12580  2022-09-11 14:46:03  \n",
              "4                           32900  2022-09-11 14:46:03  \n",
              "\n",
              "[5 rows x 58 columns]"
            ],
            "text/html": [
              "\n",
              "  <div id=\"df-fe619ca6-ab2e-4ad4-b1e1-9c6618db3f25\">\n",
              "    <div class=\"colab-df-container\">\n",
              "      <div>\n",
              "<style scoped>\n",
              "    .dataframe tbody tr th:only-of-type {\n",
              "        vertical-align: middle;\n",
              "    }\n",
              "\n",
              "    .dataframe tbody tr th {\n",
              "        vertical-align: top;\n",
              "    }\n",
              "\n",
              "    .dataframe thead th {\n",
              "        text-align: right;\n",
              "    }\n",
              "</style>\n",
              "<table border=\"1\" class=\"dataframe\">\n",
              "  <thead>\n",
              "    <tr style=\"text-align: right;\">\n",
              "      <th></th>\n",
              "      <th>period_begin</th>\n",
              "      <th>period_end</th>\n",
              "      <th>period_duration</th>\n",
              "      <th>region_type</th>\n",
              "      <th>region_type_id</th>\n",
              "      <th>table_id</th>\n",
              "      <th>is_seasonally_adjusted</th>\n",
              "      <th>region</th>\n",
              "      <th>city</th>\n",
              "      <th>state</th>\n",
              "      <th>...</th>\n",
              "      <th>sold_above_list_yoy</th>\n",
              "      <th>price_drops</th>\n",
              "      <th>price_drops_mom</th>\n",
              "      <th>price_drops_yoy</th>\n",
              "      <th>off_market_in_two_weeks</th>\n",
              "      <th>off_market_in_two_weeks_mom</th>\n",
              "      <th>off_market_in_two_weeks_yoy</th>\n",
              "      <th>parent_metro_region</th>\n",
              "      <th>parent_metro_region_metro_code</th>\n",
              "      <th>last_updated</th>\n",
              "    </tr>\n",
              "  </thead>\n",
              "  <tbody>\n",
              "    <tr>\n",
              "      <th>0</th>\n",
              "      <td>2022-01-01</td>\n",
              "      <td>2022-03-31</td>\n",
              "      <td>90</td>\n",
              "      <td>zip code</td>\n",
              "      <td>2</td>\n",
              "      <td>28652</td>\n",
              "      <td>f</td>\n",
              "      <td>Zip Code: 66431</td>\n",
              "      <td>NaN</td>\n",
              "      <td>Kansas</td>\n",
              "      <td>...</td>\n",
              "      <td>0.000000</td>\n",
              "      <td>NaN</td>\n",
              "      <td>NaN</td>\n",
              "      <td>NaN</td>\n",
              "      <td>NaN</td>\n",
              "      <td>NaN</td>\n",
              "      <td>NaN</td>\n",
              "      <td>Topeka, KS</td>\n",
              "      <td>45820</td>\n",
              "      <td>2022-09-11 14:46:03</td>\n",
              "    </tr>\n",
              "    <tr>\n",
              "      <th>1</th>\n",
              "      <td>2020-01-01</td>\n",
              "      <td>2020-03-31</td>\n",
              "      <td>90</td>\n",
              "      <td>zip code</td>\n",
              "      <td>2</td>\n",
              "      <td>35743</td>\n",
              "      <td>f</td>\n",
              "      <td>Zip Code: 83713</td>\n",
              "      <td>NaN</td>\n",
              "      <td>Idaho</td>\n",
              "      <td>...</td>\n",
              "      <td>0.000000</td>\n",
              "      <td>NaN</td>\n",
              "      <td>NaN</td>\n",
              "      <td>NaN</td>\n",
              "      <td>NaN</td>\n",
              "      <td>NaN</td>\n",
              "      <td>NaN</td>\n",
              "      <td>Boise City, ID</td>\n",
              "      <td>14260</td>\n",
              "      <td>2022-09-11 14:46:03</td>\n",
              "    </tr>\n",
              "    <tr>\n",
              "      <th>2</th>\n",
              "      <td>2017-11-01</td>\n",
              "      <td>2018-01-31</td>\n",
              "      <td>90</td>\n",
              "      <td>zip code</td>\n",
              "      <td>2</td>\n",
              "      <td>38464</td>\n",
              "      <td>f</td>\n",
              "      <td>Zip Code: 92705</td>\n",
              "      <td>NaN</td>\n",
              "      <td>California</td>\n",
              "      <td>...</td>\n",
              "      <td>NaN</td>\n",
              "      <td>NaN</td>\n",
              "      <td>NaN</td>\n",
              "      <td>NaN</td>\n",
              "      <td>NaN</td>\n",
              "      <td>NaN</td>\n",
              "      <td>NaN</td>\n",
              "      <td>Anaheim, CA</td>\n",
              "      <td>11244</td>\n",
              "      <td>2022-09-11 14:46:03</td>\n",
              "    </tr>\n",
              "    <tr>\n",
              "      <th>3</th>\n",
              "      <td>2014-04-01</td>\n",
              "      <td>2014-06-30</td>\n",
              "      <td>90</td>\n",
              "      <td>zip code</td>\n",
              "      <td>2</td>\n",
              "      <td>8432</td>\n",
              "      <td>f</td>\n",
              "      <td>Zip Code: 21208</td>\n",
              "      <td>NaN</td>\n",
              "      <td>Maryland</td>\n",
              "      <td>...</td>\n",
              "      <td>0.026786</td>\n",
              "      <td>NaN</td>\n",
              "      <td>NaN</td>\n",
              "      <td>NaN</td>\n",
              "      <td>0.636364</td>\n",
              "      <td>0.454545</td>\n",
              "      <td>0.436364</td>\n",
              "      <td>Baltimore, MD</td>\n",
              "      <td>12580</td>\n",
              "      <td>2022-09-11 14:46:03</td>\n",
              "    </tr>\n",
              "    <tr>\n",
              "      <th>4</th>\n",
              "      <td>2012-02-01</td>\n",
              "      <td>2012-04-30</td>\n",
              "      <td>90</td>\n",
              "      <td>zip code</td>\n",
              "      <td>2</td>\n",
              "      <td>39521</td>\n",
              "      <td>f</td>\n",
              "      <td>Zip Code: 95301</td>\n",
              "      <td>NaN</td>\n",
              "      <td>California</td>\n",
              "      <td>...</td>\n",
              "      <td>NaN</td>\n",
              "      <td>NaN</td>\n",
              "      <td>NaN</td>\n",
              "      <td>NaN</td>\n",
              "      <td>NaN</td>\n",
              "      <td>NaN</td>\n",
              "      <td>NaN</td>\n",
              "      <td>Merced, CA</td>\n",
              "      <td>32900</td>\n",
              "      <td>2022-09-11 14:46:03</td>\n",
              "    </tr>\n",
              "  </tbody>\n",
              "</table>\n",
              "<p>5 rows × 58 columns</p>\n",
              "</div>\n",
              "      <button class=\"colab-df-convert\" onclick=\"convertToInteractive('df-fe619ca6-ab2e-4ad4-b1e1-9c6618db3f25')\"\n",
              "              title=\"Convert this dataframe to an interactive table.\"\n",
              "              style=\"display:none;\">\n",
              "        \n",
              "  <svg xmlns=\"http://www.w3.org/2000/svg\" height=\"24px\"viewBox=\"0 0 24 24\"\n",
              "       width=\"24px\">\n",
              "    <path d=\"M0 0h24v24H0V0z\" fill=\"none\"/>\n",
              "    <path d=\"M18.56 5.44l.94 2.06.94-2.06 2.06-.94-2.06-.94-.94-2.06-.94 2.06-2.06.94zm-11 1L8.5 8.5l.94-2.06 2.06-.94-2.06-.94L8.5 2.5l-.94 2.06-2.06.94zm10 10l.94 2.06.94-2.06 2.06-.94-2.06-.94-.94-2.06-.94 2.06-2.06.94z\"/><path d=\"M17.41 7.96l-1.37-1.37c-.4-.4-.92-.59-1.43-.59-.52 0-1.04.2-1.43.59L10.3 9.45l-7.72 7.72c-.78.78-.78 2.05 0 2.83L4 21.41c.39.39.9.59 1.41.59.51 0 1.02-.2 1.41-.59l7.78-7.78 2.81-2.81c.8-.78.8-2.07 0-2.86zM5.41 20L4 18.59l7.72-7.72 1.47 1.35L5.41 20z\"/>\n",
              "  </svg>\n",
              "      </button>\n",
              "      \n",
              "  <style>\n",
              "    .colab-df-container {\n",
              "      display:flex;\n",
              "      flex-wrap:wrap;\n",
              "      gap: 12px;\n",
              "    }\n",
              "\n",
              "    .colab-df-convert {\n",
              "      background-color: #E8F0FE;\n",
              "      border: none;\n",
              "      border-radius: 50%;\n",
              "      cursor: pointer;\n",
              "      display: none;\n",
              "      fill: #1967D2;\n",
              "      height: 32px;\n",
              "      padding: 0 0 0 0;\n",
              "      width: 32px;\n",
              "    }\n",
              "\n",
              "    .colab-df-convert:hover {\n",
              "      background-color: #E2EBFA;\n",
              "      box-shadow: 0px 1px 2px rgba(60, 64, 67, 0.3), 0px 1px 3px 1px rgba(60, 64, 67, 0.15);\n",
              "      fill: #174EA6;\n",
              "    }\n",
              "\n",
              "    [theme=dark] .colab-df-convert {\n",
              "      background-color: #3B4455;\n",
              "      fill: #D2E3FC;\n",
              "    }\n",
              "\n",
              "    [theme=dark] .colab-df-convert:hover {\n",
              "      background-color: #434B5C;\n",
              "      box-shadow: 0px 1px 3px 1px rgba(0, 0, 0, 0.15);\n",
              "      filter: drop-shadow(0px 1px 2px rgba(0, 0, 0, 0.3));\n",
              "      fill: #FFFFFF;\n",
              "    }\n",
              "  </style>\n",
              "\n",
              "      <script>\n",
              "        const buttonEl =\n",
              "          document.querySelector('#df-fe619ca6-ab2e-4ad4-b1e1-9c6618db3f25 button.colab-df-convert');\n",
              "        buttonEl.style.display =\n",
              "          google.colab.kernel.accessAllowed ? 'block' : 'none';\n",
              "\n",
              "        async function convertToInteractive(key) {\n",
              "          const element = document.querySelector('#df-fe619ca6-ab2e-4ad4-b1e1-9c6618db3f25');\n",
              "          const dataTable =\n",
              "            await google.colab.kernel.invokeFunction('convertToInteractive',\n",
              "                                                     [key], {});\n",
              "          if (!dataTable) return;\n",
              "\n",
              "          const docLinkHtml = 'Like what you see? Visit the ' +\n",
              "            '<a target=\"_blank\" href=https://colab.research.google.com/notebooks/data_table.ipynb>data table notebook</a>'\n",
              "            + ' to learn more about interactive tables.';\n",
              "          element.innerHTML = '';\n",
              "          dataTable['output_type'] = 'display_data';\n",
              "          await google.colab.output.renderOutput(dataTable, element);\n",
              "          const docLink = document.createElement('div');\n",
              "          docLink.innerHTML = docLinkHtml;\n",
              "          element.appendChild(docLink);\n",
              "        }\n",
              "      </script>\n",
              "    </div>\n",
              "  </div>\n",
              "  "
            ]
          },
          "metadata": {},
          "execution_count": 4
        }
      ]
    },
    {
      "cell_type": "code",
      "source": [
        "house.shape"
      ],
      "metadata": {
        "id": "sTmaqOwGawb9"
      },
      "execution_count": null,
      "outputs": []
    },
    {
      "cell_type": "markdown",
      "source": [
        "# Data info\n",
        "Calling info() on our dataset tells us tons of information about our data frame like the shape (rows, columns), the data type of our features, and the memory usage."
      ],
      "metadata": {
        "id": "rUa7B1GKCgGT"
      }
    },
    {
      "cell_type": "code",
      "source": [
        "house.info()"
      ],
      "metadata": {
        "id": "Dz2k93XGZpj8"
      },
      "execution_count": null,
      "outputs": []
    },
    {
      "cell_type": "markdown",
      "source": [
        "# Data Type\n",
        "Separating our features into numerical and categorical early on is useful."
      ],
      "metadata": {
        "id": "eyx8gZL0CgCm"
      }
    },
    {
      "cell_type": "code",
      "source": [
        "cat_df = house.select_dtypes(include=['object'])\n",
        "num_df = house.select_dtypes(exclude=['object'])\n",
        "\n",
        "def printColumnTypes(non_numeric_df, numeric_df):\n",
        "    '''separates non-numeric and numeric columns'''\n",
        "    print(\"Non-Numeric columns:\")\n",
        "    for col in non_numeric_df:\n",
        "        print(f\"{col}\")\n",
        "    print(\"\")\n",
        "    print(\"Numeric columns:\")\n",
        "    for col in numeric_df:\n",
        "        print(f\"{col}\")\n",
        "        \n",
        "printColumnTypes(cat_df, num_df)"
      ],
      "metadata": {
        "colab": {
          "base_uri": "https://localhost:8080/"
        },
        "id": "ktpcKod9aAhU",
        "outputId": "a8d49349-f92d-4974-82d8-937661ad7a36"
      },
      "execution_count": 5,
      "outputs": [
        {
          "output_type": "stream",
          "name": "stdout",
          "text": [
            "Non-Numeric columns:\n",
            "period_begin\n",
            "period_end\n",
            "region_type\n",
            "is_seasonally_adjusted\n",
            "region\n",
            "state\n",
            "state_code\n",
            "property_type\n",
            "parent_metro_region\n",
            "last_updated\n",
            "\n",
            "Numeric columns:\n",
            "period_duration\n",
            "region_type_id\n",
            "table_id\n",
            "city\n",
            "property_type_id\n",
            "median_sale_price\n",
            "median_sale_price_mom\n",
            "median_sale_price_yoy\n",
            "median_list_price\n",
            "median_list_price_mom\n",
            "median_list_price_yoy\n",
            "median_ppsf\n",
            "median_ppsf_mom\n",
            "median_ppsf_yoy\n",
            "median_list_ppsf\n",
            "median_list_ppsf_mom\n",
            "median_list_ppsf_yoy\n",
            "homes_sold\n",
            "homes_sold_mom\n",
            "homes_sold_yoy\n",
            "pending_sales\n",
            "pending_sales_mom\n",
            "pending_sales_yoy\n",
            "new_listings\n",
            "new_listings_mom\n",
            "new_listings_yoy\n",
            "inventory\n",
            "inventory_mom\n",
            "inventory_yoy\n",
            "months_of_supply\n",
            "months_of_supply_mom\n",
            "months_of_supply_yoy\n",
            "median_dom\n",
            "median_dom_mom\n",
            "median_dom_yoy\n",
            "avg_sale_to_list\n",
            "avg_sale_to_list_mom\n",
            "avg_sale_to_list_yoy\n",
            "sold_above_list\n",
            "sold_above_list_mom\n",
            "sold_above_list_yoy\n",
            "price_drops\n",
            "price_drops_mom\n",
            "price_drops_yoy\n",
            "off_market_in_two_weeks\n",
            "off_market_in_two_weeks_mom\n",
            "off_market_in_two_weeks_yoy\n",
            "parent_metro_region_metro_code\n"
          ]
        }
      ]
    },
    {
      "cell_type": "markdown",
      "source": [
        "###### Seems like the 'period_begin', 'period_end', and 'city' columns are in the wrong format.\n",
        "\n",
        "###### Since this is a huge dataset with 6,196,869 rows and 58 columns, we will filter the data to only the State of California for the 'Single Family Residential' property_type' from 2018-01-01. "
      ],
      "metadata": {
        "id": "ySUJPpBIdo0O"
      }
    },
    {
      "cell_type": "markdown",
      "source": [
        "## Data Cleaning"
      ],
      "metadata": {
        "id": "t1rFgXIionQ2"
      }
    },
    {
      "cell_type": "code",
      "source": [
        "# convert the 'period_begin' and 'period_end columns to datetime format\n",
        "house['period_begin'] = pd.to_datetime(house['period_begin'])\n",
        "house['period_end'] = pd.to_datetime(house['period_end'])"
      ],
      "metadata": {
        "id": "UmMfvnAPeGxk"
      },
      "execution_count": 6,
      "outputs": []
    },
    {
      "cell_type": "code",
      "source": [
        "#Filter the dataframe to only look at single-family properties sold in California (CA) from 2021-01 to 2022-06-01\n",
        "df_CA = house[(house['period_begin'] >='2018-01-01') & (house['property_type']=='Single Family Residential') & (house['state_code']=='CA')]"
      ],
      "metadata": {
        "id": "kHzLg3Filu48"
      },
      "execution_count": 12,
      "outputs": []
    },
    {
      "cell_type": "code",
      "source": [
        "# Check new shape\n",
        "df_CA.shape"
      ],
      "metadata": {
        "colab": {
          "base_uri": "https://localhost:8080/"
        },
        "id": "whNZm4ten6k8",
        "outputId": "b0854c09-41b4-44a8-fec5-fa7695fe7b41"
      },
      "execution_count": 15,
      "outputs": [
        {
          "output_type": "execute_result",
          "data": {
            "text/plain": [
              "(76000, 58)"
            ]
          },
          "metadata": {},
          "execution_count": 15
        }
      ]
    },
    {
      "cell_type": "code",
      "source": [
        "# Check city column\n",
        "df_CA['city'].isna().sum()"
      ],
      "metadata": {
        "colab": {
          "base_uri": "https://localhost:8080/"
        },
        "id": "yvtx2WqXncVd",
        "outputId": "83477b5e-3791-466d-a7e3-e51701747704"
      },
      "execution_count": 14,
      "outputs": [
        {
          "output_type": "execute_result",
          "data": {
            "text/plain": [
              "76000"
            ]
          },
          "metadata": {},
          "execution_count": 14
        }
      ]
    },
    {
      "cell_type": "markdown",
      "source": [
        "City column seems to be missing all records, we'll drop it later after checking for other possible columns with similar properties"
      ],
      "metadata": {
        "id": "XOCEucI8oCyP"
      }
    },
    {
      "cell_type": "markdown",
      "source": [
        "# Outliers\n",
        "\n",
        "## Detecting Outliers\n",
        "1. Boxplots\n",
        "2. Z-score\n",
        "3. Inter Quantile Range(IQR)"
      ],
      "metadata": {
        "id": "29FFa2KGCf-C"
      }
    },
    {
      "cell_type": "code",
      "source": [],
      "metadata": {
        "id": "pklOrorDriUq"
      },
      "execution_count": null,
      "outputs": []
    },
    {
      "cell_type": "markdown",
      "source": [
        "# Handling Outliers\n",
        "\n",
        "1. Trimming/removing the outlier\n",
        "2. Quantile based flooring and capping\n",
        "3. Mean/Median imputation"
      ],
      "metadata": {
        "id": "8YFCu8qAEWOO"
      }
    },
    {
      "cell_type": "markdown",
      "source": [
        "# Missing Data\n",
        "Missing data is common in all kinds of data and is tricky to deal with. Most machine learning techniques do not work with missing values and it has to be addressed early on.\n",
        "\n",
        "### The two common methods to deal with missing values are\n",
        "\n",
        "1. Dropping the rows / columns\n",
        "2. Imputing them based on other observations i.e. the mean or median"
      ],
      "metadata": {
        "id": "nljdqstUCf4e"
      }
    },
    {
      "cell_type": "markdown",
      "source": [
        "## Columns with missing values\n"
      ],
      "metadata": {
        "id": "S5o_od0OSRaG"
      }
    },
    {
      "cell_type": "code",
      "source": [
        "def missing_cols(df):\n",
        "    '''prints out columns with its amount of missing values'''\n",
        "    total = 0\n",
        "    for col in df.columns:\n",
        "        missing_vals = df[col].isnull().sum()\n",
        "        total += missing_vals\n",
        "        if missing_vals != 0:\n",
        "            print(f\"{col} => {df[col].isnull().sum()}\")\n",
        "    \n",
        "    if total == 0:\n",
        "        print(\"no missing values left\")\n",
        "            \n",
        "missing_cols(df_CA)"
      ],
      "metadata": {
        "colab": {
          "base_uri": "https://localhost:8080/"
        },
        "id": "rOfNKPrGo_C3",
        "outputId": "523453ff-52b2-404c-e03e-e91257e19658"
      },
      "execution_count": 26,
      "outputs": [
        {
          "output_type": "stream",
          "name": "stdout",
          "text": [
            "city => 76000\n",
            "median_sale_price_mom => 1599\n",
            "median_sale_price_yoy => 4397\n",
            "median_list_price => 2655\n",
            "median_list_price_mom => 4380\n",
            "median_list_price_yoy => 6569\n",
            "median_ppsf => 86\n",
            "median_ppsf_mom => 1678\n",
            "median_ppsf_yoy => 4461\n",
            "median_list_ppsf => 2684\n",
            "median_list_ppsf_mom => 4404\n",
            "median_list_ppsf_yoy => 6588\n",
            "homes_sold_mom => 1599\n",
            "homes_sold_yoy => 4397\n",
            "pending_sales => 9307\n",
            "pending_sales_mom => 12985\n",
            "pending_sales_yoy => 13816\n",
            "new_listings => 2649\n",
            "new_listings_mom => 4375\n",
            "new_listings_yoy => 6566\n",
            "inventory => 3559\n",
            "inventory_mom => 5188\n",
            "inventory_yoy => 7180\n",
            "months_of_supply => 76000\n",
            "months_of_supply_mom => 76000\n",
            "months_of_supply_yoy => 76000\n",
            "median_dom => 802\n",
            "median_dom_mom => 2423\n",
            "median_dom_yoy => 5215\n",
            "avg_sale_to_list => 15\n",
            "avg_sale_to_list_mom => 1612\n",
            "avg_sale_to_list_yoy => 4418\n",
            "sold_above_list_mom => 1599\n",
            "sold_above_list_yoy => 4397\n",
            "price_drops => 76000\n",
            "price_drops_mom => 76000\n",
            "price_drops_yoy => 76000\n",
            "off_market_in_two_weeks => 9307\n",
            "off_market_in_two_weeks_mom => 12985\n",
            "off_market_in_two_weeks_yoy => 13816\n"
          ]
        }
      ]
    },
    {
      "cell_type": "markdown",
      "source": [
        "## Percentage missing"
      ],
      "metadata": {
        "id": "vxdIV5p1SXqN"
      }
    },
    {
      "cell_type": "code",
      "source": [
        "def perc_missing(df):\n",
        "    '''prints out columns with missing values with its %'''\n",
        "    for col in df.columns:\n",
        "        pct = df[col].isna().mean() * 100\n",
        "        if (pct != 0):\n",
        "            print('{} => {}%'.format(col, round(pct, 2)))\n",
        "    \n",
        "perc_missing(df_CA)"
      ],
      "metadata": {
        "colab": {
          "base_uri": "https://localhost:8080/"
        },
        "id": "C9yEDTdQpjMB",
        "outputId": "e4f82fd1-479b-41df-cd0a-7b99682b680a"
      },
      "execution_count": 17,
      "outputs": [
        {
          "output_type": "stream",
          "name": "stdout",
          "text": [
            "city => 100.0%\n",
            "median_sale_price_mom => 2.1%\n",
            "median_sale_price_yoy => 5.79%\n",
            "median_list_price => 3.49%\n",
            "median_list_price_mom => 5.76%\n",
            "median_list_price_yoy => 8.64%\n",
            "median_ppsf => 0.11%\n",
            "median_ppsf_mom => 2.21%\n",
            "median_ppsf_yoy => 5.87%\n",
            "median_list_ppsf => 3.53%\n",
            "median_list_ppsf_mom => 5.79%\n",
            "median_list_ppsf_yoy => 8.67%\n",
            "homes_sold_mom => 2.1%\n",
            "homes_sold_yoy => 5.79%\n",
            "pending_sales => 12.25%\n",
            "pending_sales_mom => 17.09%\n",
            "pending_sales_yoy => 18.18%\n",
            "new_listings => 3.49%\n",
            "new_listings_mom => 5.76%\n",
            "new_listings_yoy => 8.64%\n",
            "inventory => 4.68%\n",
            "inventory_mom => 6.83%\n",
            "inventory_yoy => 9.45%\n",
            "months_of_supply => 100.0%\n",
            "months_of_supply_mom => 100.0%\n",
            "months_of_supply_yoy => 100.0%\n",
            "median_dom => 1.06%\n",
            "median_dom_mom => 3.19%\n",
            "median_dom_yoy => 6.86%\n",
            "avg_sale_to_list => 0.02%\n",
            "avg_sale_to_list_mom => 2.12%\n",
            "avg_sale_to_list_yoy => 5.81%\n",
            "sold_above_list_mom => 2.1%\n",
            "sold_above_list_yoy => 5.79%\n",
            "price_drops => 100.0%\n",
            "price_drops_mom => 100.0%\n",
            "price_drops_yoy => 100.0%\n",
            "off_market_in_two_weeks => 12.25%\n",
            "off_market_in_two_weeks_mom => 17.09%\n",
            "off_market_in_two_weeks_yoy => 18.18%\n"
          ]
        }
      ]
    },
    {
      "cell_type": "markdown",
      "source": [
        "## Heatmap of missing values\n"
      ],
      "metadata": {
        "id": "qbjr0RQSScut"
      }
    },
    {
      "cell_type": "code",
      "source": [
        "plt.figure(figsize=(20, 6))\n",
        "sns.heatmap(df_CA.isnull(), yticklabels=False, cmap='viridis', cbar=False)"
      ],
      "metadata": {
        "colab": {
          "base_uri": "https://localhost:8080/",
          "height": 548
        },
        "id": "sD4u0xn-q1IC",
        "outputId": "1b0fe0fd-2238-400b-ed5f-b2980e05f4c1"
      },
      "execution_count": 32,
      "outputs": [
        {
          "output_type": "execute_result",
          "data": {
            "text/plain": [
              "<matplotlib.axes._subplots.AxesSubplot at 0x7f18c0629410>"
            ]
          },
          "metadata": {},
          "execution_count": 32
        },
        {
          "output_type": "display_data",
          "data": {
            "text/plain": [
              "<Figure size 1440x432 with 1 Axes>"
            ],
            "image/png": "[encoded data removed]"
          },
          "metadata": {
            "needs_background": "light"
          }
        }
      ]
    },
    {
      "cell_type": "markdown",
      "source": [
        "## Technique to deal with missing values\n",
        "1. Drop the feature\n",
        "2. Drop the row\n",
        "3. Impute the missing value\n",
        "4. Replace it"
      ],
      "metadata": {
        "id": "8ihVHGrqSi99"
      }
    },
    {
      "cell_type": "code",
      "source": [
        "df_CA.shape"
      ],
      "metadata": {
        "colab": {
          "base_uri": "https://localhost:8080/"
        },
        "id": "CZQB0eGBtS4K",
        "outputId": "985e14e1-cd0d-440a-b5ac-56eb47a20762"
      },
      "execution_count": 33,
      "outputs": [
        {
          "output_type": "execute_result",
          "data": {
            "text/plain": [
              "(76000, 58)"
            ]
          },
          "metadata": {},
          "execution_count": 33
        }
      ]
    },
    {
      "cell_type": "code",
      "source": [
        "df = df_CA.copy()"
      ],
      "metadata": {
        "id": "czK_99n-tXrq"
      },
      "execution_count": 35,
      "outputs": []
    },
    {
      "cell_type": "code",
      "source": [
        "# Drop unnecessary columns that are not important\n",
        "df.dropna(axis=1, thresh = int(0.2*df.shape[0]), inplace=True)"
      ],
      "metadata": {
        "id": "BKSpEqSjreKD"
      },
      "execution_count": 36,
      "outputs": []
    },
    {
      "cell_type": "code",
      "source": [
        "df.shape"
      ],
      "metadata": {
        "colab": {
          "base_uri": "https://localhost:8080/"
        },
        "id": "0N4_wxcauf2R",
        "outputId": "c41e354b-d92a-4b2a-b448-a899e8d126bc"
      },
      "execution_count": 37,
      "outputs": [
        {
          "output_type": "execute_result",
          "data": {
            "text/plain": [
              "(76000, 51)"
            ]
          },
          "metadata": {},
          "execution_count": 37
        }
      ]
    },
    {
      "cell_type": "code",
      "source": [
        "plt.figure(figsize=(20, 6))\n",
        "sns.heatmap(df.isnull(), yticklabels=False, cmap='viridis', cbar=False)"
      ],
      "metadata": {
        "colab": {
          "base_uri": "https://localhost:8080/",
          "height": 548
        },
        "id": "amkljBwHuqZz",
        "outputId": "74d22e02-44fc-4650-fe98-681c2ac66307"
      },
      "execution_count": 38,
      "outputs": [
        {
          "output_type": "execute_result",
          "data": {
            "text/plain": [
              "<matplotlib.axes._subplots.AxesSubplot at 0x7f18c94ae950>"
            ]
          },
          "metadata": {},
          "execution_count": 38
        },
        {
          "output_type": "display_data",
          "data": {
            "text/plain": [
              "<Figure size 1440x432 with 1 Axes>"
            ],
            "image/png": "[encoded data removed]"
          },
          "metadata": {
            "needs_background": "light"
          }
        }
      ]
    },
    {
      "cell_type": "markdown",
      "source": [
        "## Spelling errors in categorical data\n"
      ],
      "metadata": {
        "id": "UcX2zn-_TMd1"
      }
    },
    {
      "cell_type": "markdown",
      "source": [
        "## Converting to DateTime"
      ],
      "metadata": {
        "id": "MVNefwe1TSfV"
      }
    },
    {
      "cell_type": "markdown",
      "source": [
        "## Duplicates"
      ],
      "metadata": {
        "id": "Ik9tB6yaTU7F"
      }
    },
    {
      "cell_type": "code",
      "source": [],
      "metadata": {
        "id": "CfyE8OFpSUaM"
      },
      "execution_count": null,
      "outputs": []
    }
  ]
}